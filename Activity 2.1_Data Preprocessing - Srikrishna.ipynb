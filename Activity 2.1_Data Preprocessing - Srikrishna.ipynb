{
 "cells": [
  {
   "cell_type": "markdown",
   "id": "4fa93e72",
   "metadata": {},
   "source": [
    "**Activity Designed by:**  Ms. Achala  and Team { Dr. Shabbeer, Mr. Ashwini M, Dr. Sohbana P, Ms. Shanti K }\n",
    "\n",
    "### Dataset information [ Bangalore House Pricing ]\n",
    "\n",
    "\n",
    "**About this file**<br>\n",
    "What are the things that a potential home buyer considers before purchasing a house?<br>\n",
    "The location, the size of the property, vicinity to offices, schools, parks, restaurants, hospitals or the stereotypical white picket fence?<br> What about the most important factor — the price?<br>\n",
    "\n",
    "**For example,** <br> for a potential homeowner, over 9,000 apartment projects and flats for sale are available in the range of ₹42-52 lakh, followed by over 7,100 apartments that are in the ₹52-62 lakh budget segment, says a report by property website Makaan. According to the study, there are over 5,000 projects in the ₹15-25 lakh budget segment followed by those in the ₹34-43 lakh budget category.\n",
    "\n",
    "Buying a home, especially in a city like Bengaluru, is a tricky choice. While the major factors are usually the same for all metros, there are others to be considered for the Silicon Valley of India. With its help millennial crowd, vibrant culture, great climate and a slew of job opportunities, it is difficult to ascertain the price of a house in Bengaluru.\n",
    "\n",
    "Reference: https://www.kaggle.com/datasets/amitabhajoy/bengaluru-house-price-data/data"
   ]
  },
  {
   "cell_type": "code",
   "execution_count": 28,
   "id": "6d65984e",
   "metadata": {
    "ExecuteTime": {
     "end_time": "2024-01-29T06:39:57.746016100Z",
     "start_time": "2024-01-29T06:39:57.724218800Z"
    }
   },
   "outputs": [],
   "source": [
    "#Imports the neccessary library\n",
    "import pandas as pd\n",
    "from sklearn.preprocessing import *\n",
    "from matplotlib import pyplot as plt"
   ]
  },
  {
   "cell_type": "code",
   "execution_count": 3,
   "id": "f8668f6e",
   "metadata": {
    "ExecuteTime": {
     "end_time": "2024-01-29T06:27:02.973840600Z",
     "start_time": "2024-01-29T06:27:02.876509500Z"
    }
   },
   "outputs": [
    {
     "data": {
      "text/plain": "              area_type   availability                  location       size  \\\n0  Super built-up  Area         19-Dec  Electronic City Phase II      2 BHK   \n1            Plot  Area  Ready To Move          Chikka Tirupathi  4 Bedroom   \n2        Built-up  Area  Ready To Move               Uttarahalli      3 BHK   \n3  Super built-up  Area  Ready To Move        Lingadheeranahalli      3 BHK   \n4  Super built-up  Area  Ready To Move                  Kothanur      2 BHK   \n\n   society total_sqft  bath  balcony   price  \n0  Coomee        1056   2.0      1.0   39.07  \n1  Theanmp       2600   5.0      3.0  120.00  \n2      NaN       1440   2.0      3.0   62.00  \n3  Soiewre       1521   3.0      1.0   95.00  \n4      NaN       1200   2.0      1.0   51.00  ",
      "text/html": "<div>\n<style scoped>\n    .dataframe tbody tr th:only-of-type {\n        vertical-align: middle;\n    }\n\n    .dataframe tbody tr th {\n        vertical-align: top;\n    }\n\n    .dataframe thead th {\n        text-align: right;\n    }\n</style>\n<table border=\"1\" class=\"dataframe\">\n  <thead>\n    <tr style=\"text-align: right;\">\n      <th></th>\n      <th>area_type</th>\n      <th>availability</th>\n      <th>location</th>\n      <th>size</th>\n      <th>society</th>\n      <th>total_sqft</th>\n      <th>bath</th>\n      <th>balcony</th>\n      <th>price</th>\n    </tr>\n  </thead>\n  <tbody>\n    <tr>\n      <th>0</th>\n      <td>Super built-up  Area</td>\n      <td>19-Dec</td>\n      <td>Electronic City Phase II</td>\n      <td>2 BHK</td>\n      <td>Coomee</td>\n      <td>1056</td>\n      <td>2.0</td>\n      <td>1.0</td>\n      <td>39.07</td>\n    </tr>\n    <tr>\n      <th>1</th>\n      <td>Plot  Area</td>\n      <td>Ready To Move</td>\n      <td>Chikka Tirupathi</td>\n      <td>4 Bedroom</td>\n      <td>Theanmp</td>\n      <td>2600</td>\n      <td>5.0</td>\n      <td>3.0</td>\n      <td>120.00</td>\n    </tr>\n    <tr>\n      <th>2</th>\n      <td>Built-up  Area</td>\n      <td>Ready To Move</td>\n      <td>Uttarahalli</td>\n      <td>3 BHK</td>\n      <td>NaN</td>\n      <td>1440</td>\n      <td>2.0</td>\n      <td>3.0</td>\n      <td>62.00</td>\n    </tr>\n    <tr>\n      <th>3</th>\n      <td>Super built-up  Area</td>\n      <td>Ready To Move</td>\n      <td>Lingadheeranahalli</td>\n      <td>3 BHK</td>\n      <td>Soiewre</td>\n      <td>1521</td>\n      <td>3.0</td>\n      <td>1.0</td>\n      <td>95.00</td>\n    </tr>\n    <tr>\n      <th>4</th>\n      <td>Super built-up  Area</td>\n      <td>Ready To Move</td>\n      <td>Kothanur</td>\n      <td>2 BHK</td>\n      <td>NaN</td>\n      <td>1200</td>\n      <td>2.0</td>\n      <td>1.0</td>\n      <td>51.00</td>\n    </tr>\n  </tbody>\n</table>\n</div>"
     },
     "execution_count": 3,
     "metadata": {},
     "output_type": "execute_result"
    }
   ],
   "source": [
    "#Load the dataset\n",
    "data_path = \"datasets/Bengaluru_House_Data.csv\"\n",
    "house_df = pd.read_csv(data_path)\n",
    "house_df.head(5)"
   ]
  },
  {
   "cell_type": "markdown",
   "id": "b5e0c70a",
   "metadata": {},
   "source": [
    "## Data pre-processing"
   ]
  },
  {
   "cell_type": "code",
   "execution_count": 4,
   "id": "3400c0dd",
   "metadata": {
    "ExecuteTime": {
     "end_time": "2024-01-29T06:27:20.460215200Z",
     "start_time": "2024-01-29T06:27:20.369903400Z"
    }
   },
   "outputs": [
    {
     "data": {
      "text/plain": "               bath       balcony         price\ncount  13247.000000  12711.000000  13320.000000\nmean       2.692610      1.584376    112.565627\nstd        1.341458      0.817263    148.971674\nmin        1.000000      0.000000      8.000000\n25%        2.000000      1.000000     50.000000\n50%        2.000000      2.000000     72.000000\n75%        3.000000      2.000000    120.000000\nmax       40.000000      3.000000   3600.000000",
      "text/html": "<div>\n<style scoped>\n    .dataframe tbody tr th:only-of-type {\n        vertical-align: middle;\n    }\n\n    .dataframe tbody tr th {\n        vertical-align: top;\n    }\n\n    .dataframe thead th {\n        text-align: right;\n    }\n</style>\n<table border=\"1\" class=\"dataframe\">\n  <thead>\n    <tr style=\"text-align: right;\">\n      <th></th>\n      <th>bath</th>\n      <th>balcony</th>\n      <th>price</th>\n    </tr>\n  </thead>\n  <tbody>\n    <tr>\n      <th>count</th>\n      <td>13247.000000</td>\n      <td>12711.000000</td>\n      <td>13320.000000</td>\n    </tr>\n    <tr>\n      <th>mean</th>\n      <td>2.692610</td>\n      <td>1.584376</td>\n      <td>112.565627</td>\n    </tr>\n    <tr>\n      <th>std</th>\n      <td>1.341458</td>\n      <td>0.817263</td>\n      <td>148.971674</td>\n    </tr>\n    <tr>\n      <th>min</th>\n      <td>1.000000</td>\n      <td>0.000000</td>\n      <td>8.000000</td>\n    </tr>\n    <tr>\n      <th>25%</th>\n      <td>2.000000</td>\n      <td>1.000000</td>\n      <td>50.000000</td>\n    </tr>\n    <tr>\n      <th>50%</th>\n      <td>2.000000</td>\n      <td>2.000000</td>\n      <td>72.000000</td>\n    </tr>\n    <tr>\n      <th>75%</th>\n      <td>3.000000</td>\n      <td>2.000000</td>\n      <td>120.000000</td>\n    </tr>\n    <tr>\n      <th>max</th>\n      <td>40.000000</td>\n      <td>3.000000</td>\n      <td>3600.000000</td>\n    </tr>\n  </tbody>\n</table>\n</div>"
     },
     "execution_count": 4,
     "metadata": {},
     "output_type": "execute_result"
    }
   ],
   "source": [
    "# Summary of the Dataset\n",
    "house_df.describe()"
   ]
  },
  {
   "cell_type": "code",
   "execution_count": 5,
   "id": "538c33f4",
   "metadata": {
    "scrolled": true,
    "ExecuteTime": {
     "end_time": "2024-01-29T06:27:34.309383800Z",
     "start_time": "2024-01-29T06:27:34.273386800Z"
    }
   },
   "outputs": [
    {
     "data": {
      "text/plain": "area_type        object\navailability     object\nlocation         object\nsize             object\nsociety          object\ntotal_sqft       object\nbath            float64\nbalcony         float64\nprice           float64\ndtype: object"
     },
     "execution_count": 5,
     "metadata": {},
     "output_type": "execute_result"
    }
   ],
   "source": [
    "#Data types of the given attributes in dataframe\n",
    "house_df.dtypes"
   ]
  },
  {
   "cell_type": "code",
   "execution_count": 8,
   "id": "f60847df",
   "metadata": {
    "ExecuteTime": {
     "end_time": "2024-01-29T06:30:22.060270300Z",
     "start_time": "2024-01-29T06:30:22.052161500Z"
    }
   },
   "outputs": [
    {
     "name": "stdout",
     "output_type": "stream",
     "text": [
      "13320 rows \n",
      " 9 columns\n"
     ]
    }
   ],
   "source": [
    "#Demomnsion of the Dataset\n",
    "print(f\"{house_df.shape[0]} rows \\n {house_df.shape[1]} columns\")"
   ]
  },
  {
   "cell_type": "code",
   "execution_count": 14,
   "id": "3e28a6a3",
   "metadata": {
    "ExecuteTime": {
     "end_time": "2024-01-29T06:32:34.815184300Z",
     "start_time": "2024-01-29T06:32:34.792130600Z"
    }
   },
   "outputs": [
    {
     "data": {
      "text/plain": "Index(['area_type', 'availability', 'location', 'size', 'society',\n       'total_sqft', 'bath', 'balcony', 'price'],\n      dtype='object')"
     },
     "execution_count": 14,
     "metadata": {},
     "output_type": "execute_result"
    }
   ],
   "source": [
    "#Information about column names in the Dataset\n",
    "cols = house_df.columns\n",
    "cols"
   ]
  },
  {
   "cell_type": "markdown",
   "id": "bd4e4989",
   "metadata": {},
   "source": [
    "### Handling missing values "
   ]
  },
  {
   "cell_type": "code",
   "execution_count": 15,
   "id": "8e8ad760",
   "metadata": {
    "ExecuteTime": {
     "end_time": "2024-01-29T06:33:52.007581400Z",
     "start_time": "2024-01-29T06:33:51.988580100Z"
    }
   },
   "outputs": [
    {
     "name": "stdout",
     "output_type": "stream",
     "text": [
      "area_type has 0 missing values\n",
      "availability has 0 missing values\n",
      "location has 1 missing values\n",
      "size has 16 missing values\n",
      "society has 5502 missing values\n",
      "total_sqft has 0 missing values\n",
      "bath has 73 missing values\n",
      "balcony has 609 missing values\n",
      "price has 0 missing values\n"
     ]
    }
   ],
   "source": [
    "#Find the missing values in the given dataset\n",
    "for i in cols:\n",
    "    print(f\"{i} has {house_df[i].isna().sum()} missing values\")"
   ]
  },
  {
   "cell_type": "code",
   "execution_count": 20,
   "id": "dbff8c0a",
   "metadata": {
    "ExecuteTime": {
     "end_time": "2024-01-29T06:35:44.404816200Z",
     "start_time": "2024-01-29T06:35:44.383817600Z"
    }
   },
   "outputs": [
    {
     "name": "stdout",
     "output_type": "stream",
     "text": [
      "Total number of missing values in the dataset: 6201\n"
     ]
    }
   ],
   "source": [
    "#Calculate the total missining values in the given dataset\n",
    "print(f\"Total number of missing values in the dataset: {house_df.isna().sum().sum()}\")"
   ]
  },
  {
   "cell_type": "code",
   "execution_count": 23,
   "id": "e54c7385",
   "metadata": {
    "ExecuteTime": {
     "end_time": "2024-01-29T06:37:29.012313800Z",
     "start_time": "2024-01-29T06:37:28.995339800Z"
    }
   },
   "outputs": [
    {
     "name": "stdout",
     "output_type": "stream",
     "text": [
      "area_type\n",
      "Built-up  Area          2418\n",
      "Carpet  Area              87\n",
      "Plot  Area              2025\n",
      "Super built-up  Area    8790\n",
      "dtype: int64\n"
     ]
    }
   ],
   "source": [
    "#Lets take one attribute and using groupby function,  calculate the count of all area types in the dataset\n",
    "area_type_counts = house_df.groupby('area_type').size()\n",
    "print(area_type_counts)"
   ]
  },
  {
   "cell_type": "code",
   "execution_count": 41,
   "id": "fd6c9b17",
   "metadata": {
    "ExecuteTime": {
     "end_time": "2024-01-29T06:44:58.205746400Z",
     "start_time": "2024-01-29T06:44:58.071318100Z"
    }
   },
   "outputs": [
    {
     "data": {
      "text/plain": "<AxesSubplot:>"
     },
     "execution_count": 41,
     "metadata": {},
     "output_type": "execute_result"
    },
    {
     "data": {
      "text/plain": "<Figure size 640x480 with 1 Axes>",
      "image/png": "[encoded data removed]"
     },
     "metadata": {},
     "output_type": "display_data"
    }
   ],
   "source": [
    "#Visualization plot for above inference\n",
    "area_type_counts.plot(kind=\"pie\")"
   ]
  },
  {
   "cell_type": "code",
   "execution_count": 52,
   "id": "8ec9be8e",
   "metadata": {
    "ExecuteTime": {
     "end_time": "2024-01-29T06:59:48.671428400Z",
     "start_time": "2024-01-29T06:59:48.642074500Z"
    }
   },
   "outputs": [
    {
     "data": {
      "text/plain": "                  area_type   availability                  location  \\\n0      Super built-up  Area         19-Dec  Electronic City Phase II   \n1                Plot  Area  Ready To Move          Chikka Tirupathi   \n2            Built-up  Area  Ready To Move               Uttarahalli   \n3      Super built-up  Area  Ready To Move        Lingadheeranahalli   \n4      Super built-up  Area  Ready To Move                  Kothanur   \n...                     ...            ...                       ...   \n13315        Built-up  Area  Ready To Move                Whitefield   \n13316  Super built-up  Area  Ready To Move             Richards Town   \n13317        Built-up  Area  Ready To Move     Raja Rajeshwari Nagar   \n13318  Super built-up  Area         18-Jun           Padmanabhanagar   \n13319  Super built-up  Area  Ready To Move              Doddathoguru   \n\n            size total_sqft  bath  balcony   price  \n0          2 BHK       1056   2.0      1.0   39.07  \n1      4 Bedroom       2600   5.0      3.0  120.00  \n2          3 BHK       1440   2.0      3.0   62.00  \n3          3 BHK       1521   3.0      1.0   95.00  \n4          2 BHK       1200   2.0      1.0   51.00  \n...          ...        ...   ...      ...     ...  \n13315  5 Bedroom       3453   4.0      0.0  231.00  \n13316      4 BHK       3600   5.0      0.0  400.00  \n13317      2 BHK       1141   2.0      1.0   60.00  \n13318      4 BHK       4689   4.0      1.0  488.00  \n13319      1 BHK        550   1.0      1.0   17.00  \n\n[13320 rows x 8 columns]",
      "text/html": "<div>\n<style scoped>\n    .dataframe tbody tr th:only-of-type {\n        vertical-align: middle;\n    }\n\n    .dataframe tbody tr th {\n        vertical-align: top;\n    }\n\n    .dataframe thead th {\n        text-align: right;\n    }\n</style>\n<table border=\"1\" class=\"dataframe\">\n  <thead>\n    <tr style=\"text-align: right;\">\n      <th></th>\n      <th>area_type</th>\n      <th>availability</th>\n      <th>location</th>\n      <th>size</th>\n      <th>total_sqft</th>\n      <th>bath</th>\n      <th>balcony</th>\n      <th>price</th>\n    </tr>\n  </thead>\n  <tbody>\n    <tr>\n      <th>0</th>\n      <td>Super built-up  Area</td>\n      <td>19-Dec</td>\n      <td>Electronic City Phase II</td>\n      <td>2 BHK</td>\n      <td>1056</td>\n      <td>2.0</td>\n      <td>1.0</td>\n      <td>39.07</td>\n    </tr>\n    <tr>\n      <th>1</th>\n      <td>Plot  Area</td>\n      <td>Ready To Move</td>\n      <td>Chikka Tirupathi</td>\n      <td>4 Bedroom</td>\n      <td>2600</td>\n      <td>5.0</td>\n      <td>3.0</td>\n      <td>120.00</td>\n    </tr>\n    <tr>\n      <th>2</th>\n      <td>Built-up  Area</td>\n      <td>Ready To Move</td>\n      <td>Uttarahalli</td>\n      <td>3 BHK</td>\n      <td>1440</td>\n      <td>2.0</td>\n      <td>3.0</td>\n      <td>62.00</td>\n    </tr>\n    <tr>\n      <th>3</th>\n      <td>Super built-up  Area</td>\n      <td>Ready To Move</td>\n      <td>Lingadheeranahalli</td>\n      <td>3 BHK</td>\n      <td>1521</td>\n      <td>3.0</td>\n      <td>1.0</td>\n      <td>95.00</td>\n    </tr>\n    <tr>\n      <th>4</th>\n      <td>Super built-up  Area</td>\n      <td>Ready To Move</td>\n      <td>Kothanur</td>\n      <td>2 BHK</td>\n      <td>1200</td>\n      <td>2.0</td>\n      <td>1.0</td>\n      <td>51.00</td>\n    </tr>\n    <tr>\n      <th>...</th>\n      <td>...</td>\n      <td>...</td>\n      <td>...</td>\n      <td>...</td>\n      <td>...</td>\n      <td>...</td>\n      <td>...</td>\n      <td>...</td>\n    </tr>\n    <tr>\n      <th>13315</th>\n      <td>Built-up  Area</td>\n      <td>Ready To Move</td>\n      <td>Whitefield</td>\n      <td>5 Bedroom</td>\n      <td>3453</td>\n      <td>4.0</td>\n      <td>0.0</td>\n      <td>231.00</td>\n    </tr>\n    <tr>\n      <th>13316</th>\n      <td>Super built-up  Area</td>\n      <td>Ready To Move</td>\n      <td>Richards Town</td>\n      <td>4 BHK</td>\n      <td>3600</td>\n      <td>5.0</td>\n      <td>0.0</td>\n      <td>400.00</td>\n    </tr>\n    <tr>\n      <th>13317</th>\n      <td>Built-up  Area</td>\n      <td>Ready To Move</td>\n      <td>Raja Rajeshwari Nagar</td>\n      <td>2 BHK</td>\n      <td>1141</td>\n      <td>2.0</td>\n      <td>1.0</td>\n      <td>60.00</td>\n    </tr>\n    <tr>\n      <th>13318</th>\n      <td>Super built-up  Area</td>\n      <td>18-Jun</td>\n      <td>Padmanabhanagar</td>\n      <td>4 BHK</td>\n      <td>4689</td>\n      <td>4.0</td>\n      <td>1.0</td>\n      <td>488.00</td>\n    </tr>\n    <tr>\n      <th>13319</th>\n      <td>Super built-up  Area</td>\n      <td>Ready To Move</td>\n      <td>Doddathoguru</td>\n      <td>1 BHK</td>\n      <td>550</td>\n      <td>1.0</td>\n      <td>1.0</td>\n      <td>17.00</td>\n    </tr>\n  </tbody>\n</table>\n<p>13320 rows × 8 columns</p>\n</div>"
     },
     "execution_count": 52,
     "metadata": {},
     "output_type": "execute_result"
    }
   ],
   "source": [
    "#Handling missing values: drop all the missing values from the given dataset\n",
    "house_df.drop(\"society\",inplace=True,axis=1)\n",
    "for col in [\"balcony\",\"bath\"]:\n",
    "    house_df[col].fillna(0.0,inplace=True)\n",
    "house_df"
   ]
  },
  {
   "cell_type": "code",
   "execution_count": 12,
   "id": "7fbd38e4",
   "metadata": {},
   "outputs": [],
   "source": [
    "#verify the missing values from the updated dataframe."
   ]
  },
  {
   "cell_type": "markdown",
   "id": "864370e4",
   "metadata": {},
   "source": [
    "### Feature Engineering "
   ]
  },
  {
   "cell_type": "code",
   "execution_count": 57,
   "id": "b99bd3db",
   "metadata": {
    "ExecuteTime": {
     "end_time": "2024-01-29T07:07:18.530321600Z",
     "start_time": "2024-01-29T07:07:18.506681900Z"
    }
   },
   "outputs": [
    {
     "data": {
      "text/plain": "0        2.0\n1        4.0\n2        3.0\n3        3.0\n4        2.0\n        ... \n13315    5.0\n13316    4.0\n13317    2.0\n13318    4.0\n13319    1.0\nName: size, Length: 13320, dtype: float64"
     },
     "execution_count": 57,
     "metadata": {},
     "output_type": "execute_result"
    }
   ],
   "source": [
    "#Apply the feature engineering in size columns\n",
    "house_df[\"size\"] = house_df[\"size\"].str.split().str.get(0).astype(float)\n",
    "house_df[\"size\"].fillna(0.0)"
   ]
  }
 ],
 "metadata": {
  "kernelspec": {
   "display_name": "Python 3 (ipykernel)",
   "language": "python",
   "name": "python3"
  },
  "language_info": {
   "codemirror_mode": {
    "name": "ipython",
    "version": 3
   },
   "file_extension": ".py",
   "mimetype": "text/x-python",
   "name": "python",
   "nbconvert_exporter": "python",
   "pygments_lexer": "ipython3",
   "version": "3.11.5"
  }
 },
 "nbformat": 4,
 "nbformat_minor": 5
}
