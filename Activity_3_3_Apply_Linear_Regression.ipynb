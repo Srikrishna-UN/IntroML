{
 "cells": [
  {
   "cell_type": "markdown",
   "id": "696a8acf",
   "metadata": {
    "id": "696a8acf"
   },
   "source": [
    "**Prepared by:**\n",
    "\n",
    "Prof. Ashwini Kumar Mathur<br>\n",
    "Assistant Professor<br>\n",
    "SoCSE"
   ]
  },
  {
   "cell_type": "markdown",
   "id": "c4148c07",
   "metadata": {
    "id": "c4148c07"
   },
   "source": [
    "## **CO3 - Apply Linear Regression to Analyse the Relationship between Independent and dependent variables.**\n",
    "   "
   ]
  },
  {
   "cell_type": "markdown",
   "id": "10936ed5",
   "metadata": {
    "id": "10936ed5"
   },
   "source": [
    "### Recall: Loss Functions and Gradient Descent\n",
    "\n",
    "**Loss Function:**<br>  \n",
    "Imagine you're lost in a maze trying to find the exit.<br>\n",
    "Each path you take is like a guess about the direction to the exit.\n",
    "\n",
    "A. **But how do you know if you're getting closer or further away?**\n",
    "\n",
    "**Solution:**\n",
    "Think of the loss function as a honest guide who tells you how bad your current guess (path) is.<br>\n",
    "The **worse your guess**, the **higher the loss**, But if you get closer, the loss goes down.\n",
    "\n",
    "\n",
    "B. Now, **how do you actually move towards the exit based on the guide's feedback?**\n",
    "\n",
    "**Solution**: That's where **gradient descent** steps in. Think of it as a gentle friend who listens to the guide and nudges you in the direction with the lower loss, eventually leading you out of the maze.\n",
    "\n",
    "\n",
    "**Steps of Calculating Loss Function and Gradient Descent**\n",
    "\n",
    "Here's how it works:\n",
    "\n",
    "01. **Take a guess (choose a path):** Your initial model is like a blind guess about the correct path.\n",
    "02. **Calculate the loss (listen to the guide):** Use the loss function to measure how bad your guess is.\n",
    "03. **Find the direction of lower loss (ask the friend):** Calculate the gradient of the loss function, which points in the direction of lower loss.\n",
    "04. **Take a small step in that direction (follow the friend's nudge):** Update your model parameters (like taking a small step) in the direction of the gradient.\n",
    "05. **Repeat steps 2-4 until you reach the exit (minimize the loss):** Keep iterating, always moving towards the direction with lower loss, until you finally exit the maze (find the optimal model parameters)."
   ]
  },
  {
   "cell_type": "markdown",
   "id": "b77ed143",
   "metadata": {
    "id": "b77ed143"
   },
   "source": [
    "## **Exercise Activity:**\n",
    "\n",
    "Apply Linear regression to analyse the relationship between Independent and Dependent Variables"
   ]
  },
  {
   "cell_type": "markdown",
   "id": "70e8a561",
   "metadata": {
    "id": "70e8a561"
   },
   "source": [
    "### Basic Overview of Independent and dependent varaibles.\n",
    "\n",
    "**Independent Variable (IV):** The variable you control or manipulate in an experiment or study. It's the \"cause\" you think might affect the outcome.\n",
    "\n",
    "**Dependent Variable (DV):** The variable you measure or observe to see how it changes in response to the independent variable. It's the \"effect\" you're interested in.\n",
    "\n",
    "Lets understand with the help of example mentioned below:\n",
    "\n",
    "### Nutrition Diet Examples:\n",
    "\n",
    "1. **Independent Variable:** Amount of fruits and vegetables consumed per day (e.g., 0 servings, 2 servings, 5 servings)<br>\n",
    "**Dependent Variable:** Blood pressure levels<br>\n",
    "<br>\n",
    "2. **Independent Variable:** Type of breakfast consumed (e.g., high-protein, high-fiber, high-sugar)<br>\n",
    "**Dependent Variable:** Energy levels and cognitive performance throughout the morning<br>\n",
    "<br>\n",
    "3. **Independent Variable:** Daily water intake (e.g., 1 liter, 2 liters, 3 liters)<br>\n",
    "**Dependent Variable:** Skin hydration levels<br>\n",
    "<br>\n",
    "4. **Independent Variable:** Amount of added sugar in the diet (e.g., 0 grams, 25 grams, 50 grams)<br>\n",
    "**Dependent Variable:** Weight gain or loss<br>\n",
    "<br>\n",
    "5. **Independent Variable:** Frequency of exercise per week (e.g., 0 times, 3 times, 5 times)<br>\n",
    "**Dependent Variable:** Muscle mass and body composition"
   ]
  },
  {
   "cell_type": "markdown",
   "id": "723de31d",
   "metadata": {
    "id": "723de31d"
   },
   "source": [
    "Excercise Question: **Plant Growth:**\n",
    "\n",
    "Imagine you're growing a plant and want to understand how it grows.\n",
    "\n",
    "- Amount of sunlight the plant receives (e.g., 4 hours, 8 hours, 12 hours)ndependent variable:**\n",
    "- Height of the plant after a week\n",
    "\n",
    "Q: Identify, Which One is dependent variable and Independent Variable."
   ]
  },
  {
   "cell_type": "markdown",
   "id": "308af341",
   "metadata": {
    "id": "308af341"
   },
   "source": [
    "## Implementation of Linear regression using python [ Pre-built function ]"
   ]
  },
  {
   "cell_type": "code",
   "execution_count": 1,
   "id": "df8728ae",
   "metadata": {
    "id": "df8728ae",
    "ExecuteTime": {
     "end_time": "2024-02-20T06:03:37.270821Z",
     "start_time": "2024-02-20T06:03:25.793720500Z"
    }
   },
   "outputs": [],
   "source": [
    "import pandas as pd\n",
    "from sklearn.linear_model import LinearRegression\n",
    "import matplotlib.pyplot as plt"
   ]
  },
  {
   "cell_type": "code",
   "execution_count": 2,
   "id": "19307b61",
   "metadata": {
    "id": "19307b61",
    "ExecuteTime": {
     "end_time": "2024-02-20T06:03:37.278177900Z",
     "start_time": "2024-02-20T06:03:37.272820900Z"
    }
   },
   "outputs": [],
   "source": [
    "# Create sample data\n",
    "data = {\n",
    "    'fruits_veggies': [0, 2, 5, 1, 3, 4],\n",
    "    'blood_pressure': [140, 125, 110, 135, 120, 115]\n",
    "}\n",
    "\n",
    "# Dependent Variable = blood_pressure\n",
    "# Independent Variable = fruits_veggies"
   ]
  },
  {
   "cell_type": "code",
   "execution_count": 3,
   "id": "c0c85531",
   "metadata": {
    "id": "c0c85531",
    "outputId": "c1604038-c01c-4ebf-8f25-046e2e34155c",
    "ExecuteTime": {
     "end_time": "2024-02-20T06:03:37.294644800Z",
     "start_time": "2024-02-20T06:03:37.281178Z"
    }
   },
   "outputs": [
    {
     "data": {
      "text/plain": "{'fruits_veggies': [0, 2, 5, 1, 3, 4],\n 'blood_pressure': [140, 125, 110, 135, 120, 115]}"
     },
     "execution_count": 3,
     "metadata": {},
     "output_type": "execute_result"
    }
   ],
   "source": [
    "data"
   ]
  },
  {
   "cell_type": "code",
   "execution_count": 4,
   "id": "9a6c051d",
   "metadata": {
    "id": "9a6c051d",
    "ExecuteTime": {
     "end_time": "2024-02-20T06:03:37.355808Z",
     "start_time": "2024-02-20T06:03:37.295647200Z"
    }
   },
   "outputs": [],
   "source": [
    "# Create a DataFrame\n",
    "df = pd.DataFrame(data)"
   ]
  },
  {
   "cell_type": "code",
   "execution_count": 5,
   "id": "334c00e1",
   "metadata": {
    "id": "334c00e1",
    "outputId": "a964f63e-89cc-425b-ce82-77fd177dd8f7",
    "ExecuteTime": {
     "end_time": "2024-02-20T06:03:37.387778Z",
     "start_time": "2024-02-20T06:03:37.309222300Z"
    }
   },
   "outputs": [
    {
     "data": {
      "text/plain": "   fruits_veggies  blood_pressure\n0               0             140\n1               2             125\n2               5             110\n3               1             135\n4               3             120\n5               4             115",
      "text/html": "<div>\n<style scoped>\n    .dataframe tbody tr th:only-of-type {\n        vertical-align: middle;\n    }\n\n    .dataframe tbody tr th {\n        vertical-align: top;\n    }\n\n    .dataframe thead th {\n        text-align: right;\n    }\n</style>\n<table border=\"1\" class=\"dataframe\">\n  <thead>\n    <tr style=\"text-align: right;\">\n      <th></th>\n      <th>fruits_veggies</th>\n      <th>blood_pressure</th>\n    </tr>\n  </thead>\n  <tbody>\n    <tr>\n      <th>0</th>\n      <td>0</td>\n      <td>140</td>\n    </tr>\n    <tr>\n      <th>1</th>\n      <td>2</td>\n      <td>125</td>\n    </tr>\n    <tr>\n      <th>2</th>\n      <td>5</td>\n      <td>110</td>\n    </tr>\n    <tr>\n      <th>3</th>\n      <td>1</td>\n      <td>135</td>\n    </tr>\n    <tr>\n      <th>4</th>\n      <td>3</td>\n      <td>120</td>\n    </tr>\n    <tr>\n      <th>5</th>\n      <td>4</td>\n      <td>115</td>\n    </tr>\n  </tbody>\n</table>\n</div>"
     },
     "execution_count": 5,
     "metadata": {},
     "output_type": "execute_result"
    }
   ],
   "source": [
    "df"
   ]
  },
  {
   "cell_type": "code",
   "execution_count": 6,
   "id": "63ec641c",
   "metadata": {
    "id": "63ec641c",
    "ExecuteTime": {
     "end_time": "2024-02-20T06:03:37.409320800Z",
     "start_time": "2024-02-20T06:03:37.333835400Z"
    }
   },
   "outputs": [],
   "source": [
    "# Define independent and dependent variables\n",
    "X = df['fruits_veggies'].values.reshape(-1, 1)  # Reshape for linear regression\n",
    "y = df['blood_pressure']"
   ]
  },
  {
   "cell_type": "code",
   "execution_count": 7,
   "id": "35d4ddb4",
   "metadata": {
    "id": "35d4ddb4",
    "outputId": "618fac9f-71c2-4cf8-b032-7867f9ad5670",
    "ExecuteTime": {
     "end_time": "2024-02-20T06:03:37.410324100Z",
     "start_time": "2024-02-20T06:03:37.356809400Z"
    }
   },
   "outputs": [
    {
     "data": {
      "text/plain": "array([[0],\n       [2],\n       [5],\n       [1],\n       [3],\n       [4]], dtype=int64)"
     },
     "execution_count": 7,
     "metadata": {},
     "output_type": "execute_result"
    }
   ],
   "source": [
    "X #convert into 2D array"
   ]
  },
  {
   "cell_type": "code",
   "execution_count": 8,
   "id": "64fecbcc",
   "metadata": {
    "id": "64fecbcc",
    "ExecuteTime": {
     "end_time": "2024-02-20T06:03:37.411322100Z",
     "start_time": "2024-02-20T06:03:37.357810300Z"
    }
   },
   "outputs": [],
   "source": [
    "# Create a linear regression model\n",
    "model = LinearRegression()"
   ]
  },
  {
   "cell_type": "code",
   "execution_count": 9,
   "id": "c9ef6d35",
   "metadata": {
    "id": "c9ef6d35",
    "outputId": "eb710224-f377-4962-dbb9-211ca2220dba",
    "ExecuteTime": {
     "end_time": "2024-02-20T06:03:37.412322700Z",
     "start_time": "2024-02-20T06:03:37.359808600Z"
    }
   },
   "outputs": [
    {
     "data": {
      "text/plain": "LinearRegression()",
      "text/html": "<style>#sk-container-id-1 {color: black;}#sk-container-id-1 pre{padding: 0;}#sk-container-id-1 div.sk-toggleable {background-color: white;}#sk-container-id-1 label.sk-toggleable__label {cursor: pointer;display: block;width: 100%;margin-bottom: 0;padding: 0.3em;box-sizing: border-box;text-align: center;}#sk-container-id-1 label.sk-toggleable__label-arrow:before {content: \"▸\";float: left;margin-right: 0.25em;color: #696969;}#sk-container-id-1 label.sk-toggleable__label-arrow:hover:before {color: black;}#sk-container-id-1 div.sk-estimator:hover label.sk-toggleable__label-arrow:before {color: black;}#sk-container-id-1 div.sk-toggleable__content {max-height: 0;max-width: 0;overflow: hidden;text-align: left;background-color: #f0f8ff;}#sk-container-id-1 div.sk-toggleable__content pre {margin: 0.2em;color: black;border-radius: 0.25em;background-color: #f0f8ff;}#sk-container-id-1 input.sk-toggleable__control:checked~div.sk-toggleable__content {max-height: 200px;max-width: 100%;overflow: auto;}#sk-container-id-1 input.sk-toggleable__control:checked~label.sk-toggleable__label-arrow:before {content: \"▾\";}#sk-container-id-1 div.sk-estimator input.sk-toggleable__control:checked~label.sk-toggleable__label {background-color: #d4ebff;}#sk-container-id-1 div.sk-label input.sk-toggleable__control:checked~label.sk-toggleable__label {background-color: #d4ebff;}#sk-container-id-1 input.sk-hidden--visually {border: 0;clip: rect(1px 1px 1px 1px);clip: rect(1px, 1px, 1px, 1px);height: 1px;margin: -1px;overflow: hidden;padding: 0;position: absolute;width: 1px;}#sk-container-id-1 div.sk-estimator {font-family: monospace;background-color: #f0f8ff;border: 1px dotted black;border-radius: 0.25em;box-sizing: border-box;margin-bottom: 0.5em;}#sk-container-id-1 div.sk-estimator:hover {background-color: #d4ebff;}#sk-container-id-1 div.sk-parallel-item::after {content: \"\";width: 100%;border-bottom: 1px solid gray;flex-grow: 1;}#sk-container-id-1 div.sk-label:hover label.sk-toggleable__label {background-color: #d4ebff;}#sk-container-id-1 div.sk-serial::before {content: \"\";position: absolute;border-left: 1px solid gray;box-sizing: border-box;top: 0;bottom: 0;left: 50%;z-index: 0;}#sk-container-id-1 div.sk-serial {display: flex;flex-direction: column;align-items: center;background-color: white;padding-right: 0.2em;padding-left: 0.2em;position: relative;}#sk-container-id-1 div.sk-item {position: relative;z-index: 1;}#sk-container-id-1 div.sk-parallel {display: flex;align-items: stretch;justify-content: center;background-color: white;position: relative;}#sk-container-id-1 div.sk-item::before, #sk-container-id-1 div.sk-parallel-item::before {content: \"\";position: absolute;border-left: 1px solid gray;box-sizing: border-box;top: 0;bottom: 0;left: 50%;z-index: -1;}#sk-container-id-1 div.sk-parallel-item {display: flex;flex-direction: column;z-index: 1;position: relative;background-color: white;}#sk-container-id-1 div.sk-parallel-item:first-child::after {align-self: flex-end;width: 50%;}#sk-container-id-1 div.sk-parallel-item:last-child::after {align-self: flex-start;width: 50%;}#sk-container-id-1 div.sk-parallel-item:only-child::after {width: 0;}#sk-container-id-1 div.sk-dashed-wrapped {border: 1px dashed gray;margin: 0 0.4em 0.5em 0.4em;box-sizing: border-box;padding-bottom: 0.4em;background-color: white;}#sk-container-id-1 div.sk-label label {font-family: monospace;font-weight: bold;display: inline-block;line-height: 1.2em;}#sk-container-id-1 div.sk-label-container {text-align: center;}#sk-container-id-1 div.sk-container {/* jupyter's `normalize.less` sets `[hidden] { display: none; }` but bootstrap.min.css set `[hidden] { display: none !important; }` so we also need the `!important` here to be able to override the default hidden behavior on the sphinx rendered scikit-learn.org. See: https://github.com/scikit-learn/scikit-learn/issues/21755 */display: inline-block !important;position: relative;}#sk-container-id-1 div.sk-text-repr-fallback {display: none;}</style><div id=\"sk-container-id-1\" class=\"sk-top-container\"><div class=\"sk-text-repr-fallback\"><pre>LinearRegression()</pre><b>In a Jupyter environment, please rerun this cell to show the HTML representation or trust the notebook. <br />On GitHub, the HTML representation is unable to render, please try loading this page with nbviewer.org.</b></div><div class=\"sk-container\" hidden><div class=\"sk-item\"><div class=\"sk-estimator sk-toggleable\"><input class=\"sk-toggleable__control sk-hidden--visually\" id=\"sk-estimator-id-1\" type=\"checkbox\" checked><label for=\"sk-estimator-id-1\" class=\"sk-toggleable__label sk-toggleable__label-arrow\">LinearRegression</label><div class=\"sk-toggleable__content\"><pre>LinearRegression()</pre></div></div></div></div></div>"
     },
     "execution_count": 9,
     "metadata": {},
     "output_type": "execute_result"
    }
   ],
   "source": [
    "# Fit the model to the data\n",
    "model.fit(X, y)"
   ]
  },
  {
   "cell_type": "code",
   "execution_count": 10,
   "id": "1ecfe3b9",
   "metadata": {
    "id": "1ecfe3b9",
    "ExecuteTime": {
     "end_time": "2024-02-20T06:03:37.515950100Z",
     "start_time": "2024-02-20T06:03:37.388789400Z"
    }
   },
   "outputs": [],
   "source": [
    "# Make predictions\n",
    "predicted_bp = model.predict(X)"
   ]
  },
  {
   "cell_type": "code",
   "execution_count": 11,
   "id": "02b82ed3",
   "metadata": {
    "id": "02b82ed3",
    "outputId": "13e20df5-84a4-45fc-bd28-bd4f769c9d8f",
    "ExecuteTime": {
     "end_time": "2024-02-20T06:03:37.808342300Z",
     "start_time": "2024-02-20T06:03:37.397804500Z"
    }
   },
   "outputs": [
    {
     "data": {
      "text/plain": "<Figure size 640x480 with 1 Axes>",
      "image/png": "[encoded data removed]"
     },
     "metadata": {},
     "output_type": "display_data"
    }
   ],
   "source": [
    "# Visualize the results\n",
    "plt.scatter(X, y, label='Actual Blood Pressure')\n",
    "plt.plot(X, predicted_bp, color='red', label='Predicted Blood Pressure')\n",
    "plt.xlabel('Fruits/Veggies Intake (servings/day)')\n",
    "plt.ylabel('Blood Pressure (mmHg)')\n",
    "plt.title('Linear Regression: Fruits/Veggies vs Blood Pressure')\n",
    "plt.legend()\n",
    "plt.show()"
   ]
  },
  {
   "cell_type": "code",
   "execution_count": 12,
   "id": "45cfd3ef",
   "metadata": {
    "id": "45cfd3ef",
    "outputId": "6a5a9222-db5f-4587-f953-ef9a83ec87b5",
    "ExecuteTime": {
     "end_time": "2024-02-20T06:03:37.819618700Z",
     "start_time": "2024-02-20T06:03:37.809358300Z"
    }
   },
   "outputs": [
    {
     "name": "stdout",
     "output_type": "stream",
     "text": [
      "Slope: -6.142857142857142\n",
      "Intercept: 139.52380952380952\n"
     ]
    }
   ],
   "source": [
    "# Print the model's slope and intercept\n",
    "print(\"Slope:\", model.coef_[0])\n",
    "print(\"Intercept:\", model.intercept_)"
   ]
  },
  {
   "cell_type": "code",
   "execution_count": 13,
   "id": "aae2fc11",
   "metadata": {
    "id": "aae2fc11",
    "outputId": "25cf1a9c-732d-4ea0-efa8-89f40cdc87e9",
    "ExecuteTime": {
     "end_time": "2024-02-20T06:03:37.834892Z",
     "start_time": "2024-02-20T06:03:37.819618700Z"
    }
   },
   "outputs": [
    {
     "name": "stdout",
     "output_type": "stream",
     "text": [
      "R-squared: 0.9843833185448092\n"
     ]
    }
   ],
   "source": [
    "# Evaluation Metrics using R squared error\n",
    "'''\n",
    "R-squared: Measures the proportion of variance in the dependent variable explained by the model.\n",
    "Higher values (closer to 1) indicate better fit.\n",
    "'''\n",
    "print(\"R-squared:\", model.score(X, y))"
   ]
  },
  {
   "cell_type": "code",
   "execution_count": 14,
   "id": "3302619f",
   "metadata": {
    "id": "3302619f",
    "outputId": "a2e4645e-9635-4261-b7bd-aece865d9345",
    "ExecuteTime": {
     "end_time": "2024-02-20T06:03:38.007290600Z",
     "start_time": "2024-02-20T06:03:37.844012100Z"
    }
   },
   "outputs": [
    {
     "name": "stdout",
     "output_type": "stream",
     "text": [
      "Mean Squared Error: 1.7460317460317463\n"
     ]
    }
   ],
   "source": [
    "# Evaluation Metrics using Mean_Squared_error\n",
    "'''\n",
    "Mean Squared Error (MSE): Average squared difference between actual and predicted values.\n",
    "Lower values indicate better fit.\n",
    "'''\n",
    "\n",
    "from sklearn.metrics import mean_squared_error\n",
    "print(\"Mean Squared Error:\", mean_squared_error(y, predicted_bp))"
   ]
  },
  {
   "cell_type": "markdown",
   "id": "f38dc219",
   "metadata": {
    "id": "f38dc219"
   },
   "source": [
    "### Interpretation of the above:\n",
    "\n",
    "**R-squared (R²):**<br>\n",
    "<br>\n",
    "**Measures:** The proportion of the variance in the dependent variable (y) that's explained by the independent variable (x) in the model.<br>\n",
    "**Range:** 0 to 1, with 0 indicating no relationship and 1 indicating a perfect fit.\n",
    "\n",
    "\n",
    "**Interpretation:**<br>\n",
    "- A higher R-squared value suggests the model explains more of the variability in the data.\n",
    "For example, an R-squared of 0.75 suggests the model accounts for 75% of the observed variation in the dependent variable.<br>\n",
    "- However, it's **crucial to note that R-squared doesn't guarantee model quality or causation.** It's possible to have high R-squared values for models that don't represent true relationships.\n",
    "\n",
    "**Mean Squared Error (MSE):**<br>\n",
    "<br>\n",
    "**Measures:** The average squared difference between the actual values (y) and the predicted values (ŷ).\n",
    "Interpretation:<br>\n",
    "\n",
    "- A lower MSE indicates a better fit, as the model's predictions are closer to the observed values.\n",
    "MSE is expressed in the same units as the squared dependent variable, making it interpretable in the context of the problem.\n",
    "\n",
    "- **For example**, an MSE of 25 (mmHg)² suggests an average error of 5 mmHg in blood pressure predictions.\n"
   ]
  },
  {
   "cell_type": "markdown",
   "id": "97e2b6cc",
   "metadata": {
    "id": "97e2b6cc"
   },
   "source": [
    "## Class activity excercise: [ Beginner Level ]\n",
    "\n",
    "Important Note: **Remove the solution part before circulation to the students**"
   ]
  },
  {
   "cell_type": "code",
   "execution_count": 15,
   "id": "341aecf9",
   "metadata": {
    "id": "341aecf9",
    "ExecuteTime": {
     "end_time": "2024-02-20T06:03:38.009289400Z",
     "start_time": "2024-02-20T06:03:37.857913200Z"
    }
   },
   "outputs": [],
   "source": [
    "#import the neccessary library and Dataset\n",
    "import pandas as pd\n",
    "from sklearn.linear_model import LinearRegression\n",
    "import matplotlib.pyplot as plt\n",
    "from sklearn.model_selection import train_test_split\n",
    "from sklearn.preprocessing import LabelEncoder"
   ]
  },
  {
   "cell_type": "code",
   "execution_count": 36,
   "id": "c606795a",
   "metadata": {
    "id": "c606795a",
    "ExecuteTime": {
     "end_time": "2024-02-20T06:16:37.973463Z",
     "start_time": "2024-02-20T06:16:37.962193700Z"
    }
   },
   "outputs": [
    {
     "data": {
      "text/plain": "   Id  SepalLengthCm  SepalWidthCm  PetalLengthCm  PetalWidthCm      Species\n0   1            5.1           3.5            1.4           0.2  Iris-setosa\n1   2            4.9           3.0            1.4           0.2  Iris-setosa\n2   3            4.7           3.2            1.3           0.2  Iris-setosa\n3   4            4.6           3.1            1.5           0.2  Iris-setosa\n4   5            5.0           3.6            1.4           0.2  Iris-setosa",
      "text/html": "<div>\n<style scoped>\n    .dataframe tbody tr th:only-of-type {\n        vertical-align: middle;\n    }\n\n    .dataframe tbody tr th {\n        vertical-align: top;\n    }\n\n    .dataframe thead th {\n        text-align: right;\n    }\n</style>\n<table border=\"1\" class=\"dataframe\">\n  <thead>\n    <tr style=\"text-align: right;\">\n      <th></th>\n      <th>Id</th>\n      <th>SepalLengthCm</th>\n      <th>SepalWidthCm</th>\n      <th>PetalLengthCm</th>\n      <th>PetalWidthCm</th>\n      <th>Species</th>\n    </tr>\n  </thead>\n  <tbody>\n    <tr>\n      <th>0</th>\n      <td>1</td>\n      <td>5.1</td>\n      <td>3.5</td>\n      <td>1.4</td>\n      <td>0.2</td>\n      <td>Iris-setosa</td>\n    </tr>\n    <tr>\n      <th>1</th>\n      <td>2</td>\n      <td>4.9</td>\n      <td>3.0</td>\n      <td>1.4</td>\n      <td>0.2</td>\n      <td>Iris-setosa</td>\n    </tr>\n    <tr>\n      <th>2</th>\n      <td>3</td>\n      <td>4.7</td>\n      <td>3.2</td>\n      <td>1.3</td>\n      <td>0.2</td>\n      <td>Iris-setosa</td>\n    </tr>\n    <tr>\n      <th>3</th>\n      <td>4</td>\n      <td>4.6</td>\n      <td>3.1</td>\n      <td>1.5</td>\n      <td>0.2</td>\n      <td>Iris-setosa</td>\n    </tr>\n    <tr>\n      <th>4</th>\n      <td>5</td>\n      <td>5.0</td>\n      <td>3.6</td>\n      <td>1.4</td>\n      <td>0.2</td>\n      <td>Iris-setosa</td>\n    </tr>\n  </tbody>\n</table>\n</div>"
     },
     "execution_count": 36,
     "metadata": {},
     "output_type": "execute_result"
    }
   ],
   "source": [
    "#Load the required Dataset and display first five rows\n",
    "iris = pd.read_csv(\"datasets/Iris.csv\")\n",
    "iris.head()"
   ]
  },
  {
   "cell_type": "code",
   "execution_count": 37,
   "id": "a0d1c988",
   "metadata": {
    "id": "a0d1c988",
    "ExecuteTime": {
     "end_time": "2024-02-20T06:16:41.378482800Z",
     "start_time": "2024-02-20T06:16:41.366060800Z"
    }
   },
   "outputs": [],
   "source": [
    "#Data Pre-processing\n",
    "X = iris[['SepalLengthCm', 'SepalWidthCm', 'PetalLengthCm', 'PetalWidthCm']]\n",
    "y = iris['Species']  # Assuming 'species' is the target column"
   ]
  },
  {
   "cell_type": "code",
   "execution_count": 38,
   "id": "3a707db8",
   "metadata": {
    "id": "3a707db8",
    "outputId": "e0ddc262-c333-4e89-d7e0-1266e01cff6a",
    "ExecuteTime": {
     "end_time": "2024-02-20T06:16:44.160423200Z",
     "start_time": "2024-02-20T06:16:44.135376900Z"
    }
   },
   "outputs": [
    {
     "data": {
      "text/plain": "array([0, 0, 0, 0, 0, 0, 0, 0, 0, 0, 0, 0, 0, 0, 0, 0, 0, 0, 0, 0, 0, 0,\n       0, 0, 0, 0, 0, 0, 0, 0, 0, 0, 0, 0, 0, 0, 0, 0, 0, 0, 0, 0, 0, 0,\n       0, 0, 0, 0, 0, 0, 1, 1, 1, 1, 1, 1, 1, 1, 1, 1, 1, 1, 1, 1, 1, 1,\n       1, 1, 1, 1, 1, 1, 1, 1, 1, 1, 1, 1, 1, 1, 1, 1, 1, 1, 1, 1, 1, 1,\n       1, 1, 1, 1, 1, 1, 1, 1, 1, 1, 1, 1, 2, 2, 2, 2, 2, 2, 2, 2, 2, 2,\n       2, 2, 2, 2, 2, 2, 2, 2, 2, 2, 2, 2, 2, 2, 2, 2, 2, 2, 2, 2, 2, 2,\n       2, 2, 2, 2, 2, 2, 2, 2, 2, 2, 2, 2, 2, 2, 2, 2, 2, 2])"
     },
     "execution_count": 38,
     "metadata": {},
     "output_type": "execute_result"
    }
   ],
   "source": [
    "# Hot Encoding the target values\n",
    "encoder = LabelEncoder()\n",
    "y = encoder.fit_transform(y)\n",
    "y"
   ]
  },
  {
   "cell_type": "code",
   "execution_count": 40,
   "id": "62b1610a",
   "metadata": {
    "id": "62b1610a",
    "ExecuteTime": {
     "end_time": "2024-02-20T06:17:05.809046100Z",
     "start_time": "2024-02-20T06:17:05.799517200Z"
    }
   },
   "outputs": [
    {
     "data": {
      "text/plain": "     SepalLengthCm  SepalWidthCm  PetalLengthCm  PetalWidthCm\n21             5.1           3.7            1.5           0.4\n19             5.1           3.8            1.5           0.3\n91             6.1           3.0            4.6           1.4\n125            7.2           3.2            6.0           1.8\n65             6.7           3.1            4.4           1.4\n..             ...           ...            ...           ...\n13             4.3           3.0            1.1           0.1\n118            7.7           2.6            6.9           2.3\n0              5.1           3.5            1.4           0.2\n129            7.2           3.0            5.8           1.6\n14             5.8           4.0            1.2           0.2\n\n[120 rows x 4 columns]",
      "text/html": "<div>\n<style scoped>\n    .dataframe tbody tr th:only-of-type {\n        vertical-align: middle;\n    }\n\n    .dataframe tbody tr th {\n        vertical-align: top;\n    }\n\n    .dataframe thead th {\n        text-align: right;\n    }\n</style>\n<table border=\"1\" class=\"dataframe\">\n  <thead>\n    <tr style=\"text-align: right;\">\n      <th></th>\n      <th>SepalLengthCm</th>\n      <th>SepalWidthCm</th>\n      <th>PetalLengthCm</th>\n      <th>PetalWidthCm</th>\n    </tr>\n  </thead>\n  <tbody>\n    <tr>\n      <th>21</th>\n      <td>5.1</td>\n      <td>3.7</td>\n      <td>1.5</td>\n      <td>0.4</td>\n    </tr>\n    <tr>\n      <th>19</th>\n      <td>5.1</td>\n      <td>3.8</td>\n      <td>1.5</td>\n      <td>0.3</td>\n    </tr>\n    <tr>\n      <th>91</th>\n      <td>6.1</td>\n      <td>3.0</td>\n      <td>4.6</td>\n      <td>1.4</td>\n    </tr>\n    <tr>\n      <th>125</th>\n      <td>7.2</td>\n      <td>3.2</td>\n      <td>6.0</td>\n      <td>1.8</td>\n    </tr>\n    <tr>\n      <th>65</th>\n      <td>6.7</td>\n      <td>3.1</td>\n      <td>4.4</td>\n      <td>1.4</td>\n    </tr>\n    <tr>\n      <th>...</th>\n      <td>...</td>\n      <td>...</td>\n      <td>...</td>\n      <td>...</td>\n    </tr>\n    <tr>\n      <th>13</th>\n      <td>4.3</td>\n      <td>3.0</td>\n      <td>1.1</td>\n      <td>0.1</td>\n    </tr>\n    <tr>\n      <th>118</th>\n      <td>7.7</td>\n      <td>2.6</td>\n      <td>6.9</td>\n      <td>2.3</td>\n    </tr>\n    <tr>\n      <th>0</th>\n      <td>5.1</td>\n      <td>3.5</td>\n      <td>1.4</td>\n      <td>0.2</td>\n    </tr>\n    <tr>\n      <th>129</th>\n      <td>7.2</td>\n      <td>3.0</td>\n      <td>5.8</td>\n      <td>1.6</td>\n    </tr>\n    <tr>\n      <th>14</th>\n      <td>5.8</td>\n      <td>4.0</td>\n      <td>1.2</td>\n      <td>0.2</td>\n    </tr>\n  </tbody>\n</table>\n<p>120 rows × 4 columns</p>\n</div>"
     },
     "execution_count": 40,
     "metadata": {},
     "output_type": "execute_result"
    }
   ],
   "source": [
    "# 80% for training, 20% for testing\n",
    "X_train,X_test,y_train,y_test = train_test_split(X,y,test_size=0.2)\n",
    "X_train"
   ]
  },
  {
   "cell_type": "code",
   "execution_count": 46,
   "id": "676bb945",
   "metadata": {
    "scrolled": true,
    "id": "676bb945",
    "outputId": "dd7b4958-0cc1-42f1-db55-229dcaac4d27",
    "ExecuteTime": {
     "end_time": "2024-02-20T06:19:00.751344300Z",
     "start_time": "2024-02-20T06:19:00.744105900Z"
    }
   },
   "outputs": [
    {
     "name": "stdout",
     "output_type": "stream",
     "text": [
      "Intercept: -0.6978500965210273\n",
      "Coefficients: [ 0.30611019 -0.1358364   0.01934037  0.14506301]\n"
     ]
    }
   ],
   "source": [
    "from sklearn.linear_model import LinearRegression\n",
    "\n",
    "# Create a LinearRegression object\n",
    "model = LinearRegression()\n",
    "\n",
    "# Fit the model to the data\n",
    "model.fit(X_train, y_train)\n",
    "\n",
    "# Get the intercept and coefficients\n",
    "intercept = model.intercept_\n",
    "coefficients = model.coef_\n",
    "\n",
    "# Print the values\n",
    "print(\"Intercept:\", intercept)\n",
    "print(\"Coefficients:\", coefficients)"
   ]
  },
  {
   "cell_type": "code",
   "execution_count": 47,
   "id": "8962133f",
   "metadata": {
    "id": "8962133f",
    "outputId": "49a6abf8-ef61-4f47-da3b-9e1a42383ee3",
    "ExecuteTime": {
     "end_time": "2024-02-20T06:19:03.311302300Z",
     "start_time": "2024-02-20T06:19:03.302453400Z"
    }
   },
   "outputs": [
    {
     "name": "stdout",
     "output_type": "stream",
     "text": [
      "R-squared on training set: 0.5438234038669363\n"
     ]
    }
   ],
   "source": [
    "# Load the library for calculating r2 Score\n",
    "from sklearn.metrics import r2_score\n",
    "\n",
    "# Assuming you have already trained your model and obtained predictions\n",
    "# Make predictions on the training set\n",
    "y_pred_train = model.predict(X_train)  # Replace X_train with your training features\n",
    "\n",
    "# Evaluate model performance on the training set using R-squared\n",
    "r2_train = r2_score(y_train, y_pred_train)\n",
    "\n",
    "# Print the R2 Score for the Training Set\n",
    "print(\"R-squared on training set:\", r2_train)\n"
   ]
  },
  {
   "cell_type": "code",
   "execution_count": 48,
   "id": "1498a0ff",
   "metadata": {
    "id": "1498a0ff",
    "outputId": "c8fa9bdf-3a61-45cf-85e2-53d06a8d7cdb",
    "ExecuteTime": {
     "end_time": "2024-02-20T06:19:10.088306200Z",
     "start_time": "2024-02-20T06:19:10.082442600Z"
    }
   },
   "outputs": [
    {
     "name": "stdout",
     "output_type": "stream",
     "text": [
      "R-squared on testing set: 0.6677606824047415\n"
     ]
    }
   ],
   "source": [
    "# Make predictions on the testing set\n",
    "y_pred_test = model.predict(X_test)  # Replace X_test with your testing features\n",
    "\n",
    "# Evaluate model performance on the testing set using R-squared\n",
    "r2_test = r2_score(y_test, y_pred_test)\n",
    "\n",
    "# Print the R2 Score for the Testing Set\n",
    "print(\"R-squared on testing set:\", r2_test)"
   ]
  },
  {
   "cell_type": "code",
   "execution_count": 49,
   "id": "5b5fd9e5",
   "metadata": {
    "id": "5b5fd9e5",
    "outputId": "45ecc844-24dd-4d7b-91e3-09770ace7e5a",
    "ExecuteTime": {
     "end_time": "2024-02-20T06:19:12.271187500Z",
     "start_time": "2024-02-20T06:19:12.263679900Z"
    }
   },
   "outputs": [
    {
     "name": "stdout",
     "output_type": "stream",
     "text": [
      "Mean Squared Error on training set: 0.30788752345953097\n"
     ]
    }
   ],
   "source": [
    "# Evaluate model performance on the training set (e.g., using MSE)\n",
    "from sklearn.metrics import mean_squared_error\n",
    "\n",
    "# Assuming you have already trained your model and obtained predictions on the training set\n",
    "# Make predictions on the training set\n",
    "y_pred_train = model.predict(X_train)  # Replace X_train with your training features\n",
    "\n",
    "# Evaluate model performance on the training set using Mean Squared Error (MSE)\n",
    "mse_train = mean_squared_error(y_train, y_pred_train)\n",
    "\n",
    "# Print the MSE for the Training Set\n",
    "print(\"Mean Squared Error on training set:\", mse_train)\n"
   ]
  },
  {
   "cell_type": "code",
   "execution_count": 50,
   "id": "b841bdd6",
   "metadata": {
    "id": "b841bdd6",
    "outputId": "57a035e8-a395-43ff-e1ac-e83fbe41c8dd",
    "ExecuteTime": {
     "end_time": "2024-02-20T06:19:14.586745100Z",
     "start_time": "2024-02-20T06:19:14.578759Z"
    }
   },
   "outputs": [
    {
     "name": "stdout",
     "output_type": "stream",
     "text": [
      "Mean Squared Error on training set: 0.21004907967966896\n"
     ]
    }
   ],
   "source": [
    "# Evaluate model performance on the training set (e.g., using MSE)\n",
    "from sklearn.metrics import mean_squared_error\n",
    "\n",
    "# Assuming you have already trained your model and obtained predictions on the training set\n",
    "# Make predictions on the training set\n",
    "y_pred_train = model.predict(X_test)  # Replace X_train with your training features\n",
    "\n",
    "# Evaluate model performance on the training set using Mean Squared Error (MSE)\n",
    "mse_test = mean_squared_error(y_test, y_pred_test)\n",
    "\n",
    "# Print the MSE for the Training Set\n",
    "print(\"Mean Squared Error on training set:\", mse_test)\n"
   ]
  },
  {
   "cell_type": "markdown",
   "id": "1e12ded0",
   "metadata": {
    "id": "1e12ded0"
   },
   "source": [
    "## Class activity excercise: [ Intermediate Level ]"
   ]
  },
  {
   "cell_type": "markdown",
   "id": "11557f84",
   "metadata": {
    "id": "11557f84"
   },
   "source": [
    "**Problem:** Use the given link to explore the Dataset and Apply the Linear Regression Algorithm for finding the relationship between One Dependent and One Independent variables\n",
    "\n",
    "For Example:\n",
    "\n",
    "\n",
    "\n",
    "Link: https://www.kaggle.com/code/parulpandey/penguin-dataset-the-new-iris/input\n",
    "\n",
    "Download the Dataset : Penguinsize.csv"
   ]
  },
  {
   "cell_type": "code",
   "execution_count": null,
   "id": "1790d3b1",
   "metadata": {
    "id": "1790d3b1"
   },
   "outputs": [],
   "source": [
    "#import the neccessary library and Dataset\n",
    "#import the neccessary library and Dataset\n",
    "import pandas as pd\n",
    "from sklearn.linear_model import LinearRegression\n",
    "import matplotlib.pyplot as plt\n",
    "from sklearn.model_selection import train_test_split\n",
    "from sklearn.preprocessing import LabelEncoder"
   ]
  },
  {
   "cell_type": "code",
   "execution_count": 64,
   "id": "851f9de1",
   "metadata": {
    "id": "851f9de1",
    "ExecuteTime": {
     "end_time": "2024-02-20T06:29:18.017566Z",
     "start_time": "2024-02-20T06:29:18.003180500Z"
    }
   },
   "outputs": [
    {
     "name": "stderr",
     "output_type": "stream",
     "text": [
      "C:\\Users\\Srikrishna U N\\AppData\\Local\\Temp\\ipykernel_21840\\914498268.py:8: SettingWithCopyWarning: \n",
      "A value is trying to be set on a copy of a slice from a DataFrame.\n",
      "Try using .loc[row_indexer,col_indexer] = value instead\n",
      "\n",
      "See the caveats in the documentation: https://pandas.pydata.org/pandas-docs/stable/user_guide/indexing.html#returning-a-view-versus-a-copy\n",
      "  X.island = new_encoder.fit_transform(X.island)\n"
     ]
    },
    {
     "data": {
      "text/plain": "(     island  culmen_depth_mm  culmen_depth_mm  flipper_length_mm  body_mass_g\n 0         2             18.7             18.7              181.0       3750.0\n 1         2             17.4             17.4              186.0       3800.0\n 2         2             18.0             18.0              195.0       3250.0\n 4         2             19.3             19.3              193.0       3450.0\n 5         2             20.6             20.6              190.0       3650.0\n ..      ...              ...              ...                ...          ...\n 338       0             13.7             13.7              214.0       4925.0\n 340       0             14.3             14.3              215.0       4850.0\n 341       0             15.7             15.7              222.0       5750.0\n 342       0             14.8             14.8              212.0       5200.0\n 343       0             16.1             16.1              213.0       5400.0\n \n [334 rows x 5 columns],\n array([0, 0, 0, 0, 0, 0, 0, 0, 0, 0, 0, 0, 0, 0, 0, 0, 0, 0, 0, 0, 0, 0,\n        0, 0, 0, 0, 0, 0, 0, 0, 0, 0, 0, 0, 0, 0, 0, 0, 0, 0, 0, 0, 0, 0,\n        0, 0, 0, 0, 0, 0, 0, 0, 0, 0, 0, 0, 0, 0, 0, 0, 0, 0, 0, 0, 0, 0,\n        0, 0, 0, 0, 0, 0, 0, 0, 0, 0, 0, 0, 0, 0, 0, 0, 0, 0, 0, 0, 0, 0,\n        0, 0, 0, 0, 0, 0, 0, 0, 0, 0, 0, 0, 0, 0, 0, 0, 0, 0, 0, 0, 0, 0,\n        0, 0, 0, 0, 0, 0, 0, 0, 0, 0, 0, 0, 0, 0, 0, 0, 0, 0, 0, 0, 0, 0,\n        0, 0, 0, 0, 0, 0, 0, 0, 0, 0, 0, 0, 0, 0, 1, 1, 1, 1, 1, 1, 1, 1,\n        1, 1, 1, 1, 1, 1, 1, 1, 1, 1, 1, 1, 1, 1, 1, 1, 1, 1, 1, 1, 1, 1,\n        1, 1, 1, 1, 1, 1, 1, 1, 1, 1, 1, 1, 1, 1, 1, 1, 1, 1, 1, 1, 1, 1,\n        1, 1, 1, 1, 1, 1, 1, 1, 1, 1, 1, 1, 1, 1, 1, 1, 2, 2, 2, 2, 2, 2,\n        2, 2, 2, 2, 2, 2, 2, 2, 2, 2, 2, 2, 2, 2, 2, 2, 2, 2, 2, 2, 2, 2,\n        2, 2, 2, 2, 2, 2, 2, 2, 2, 2, 2, 2, 2, 2, 2, 2, 2, 2, 2, 2, 2, 2,\n        2, 2, 2, 2, 2, 2, 2, 2, 2, 2, 2, 2, 2, 2, 2, 2, 2, 2, 2, 2, 2, 2,\n        2, 2, 2, 2, 2, 2, 2, 2, 2, 2, 2, 2, 2, 2, 2, 2, 2, 2, 2, 2, 2, 2,\n        2, 2, 2, 2, 2, 2, 2, 2, 2, 2, 2, 2, 2, 2, 2, 2, 2, 2, 2, 2, 2, 2,\n        2, 2, 2, 2]))"
     },
     "execution_count": 64,
     "metadata": {},
     "output_type": "execute_result"
    }
   ],
   "source": [
    "#Data Pre-processing\n",
    "peng = pd.read_csv(\"datasets/penguins_size.csv\")\n",
    "peng.dropna(inplace=True)\n",
    "encoder = LabelEncoder()\n",
    "y = encoder.fit_transform(peng.species)\n",
    "X = peng[['island','culmen_depth_mm','culmen_depth_mm','flipper_length_mm','body_mass_g']]\n",
    "new_encoder = LabelEncoder()\n",
    "X.island = new_encoder.fit_transform(X.island)\n",
    "X,y"
   ]
  },
  {
   "cell_type": "code",
   "execution_count": 66,
   "id": "0b2f4681",
   "metadata": {
    "id": "0b2f4681",
    "ExecuteTime": {
     "end_time": "2024-02-20T06:29:32.402840800Z",
     "start_time": "2024-02-20T06:29:32.393040100Z"
    }
   },
   "outputs": [],
   "source": [
    "#Split the Dataset into training and testing Set [Training Set - 80 % and Testing Set - 20 %]\n",
    "X_train,X_test,y_train,y_test = train_test_split(X,y,train_size=0.8)"
   ]
  },
  {
   "cell_type": "code",
   "execution_count": 67,
   "id": "0306441e",
   "metadata": {
    "id": "0306441e",
    "ExecuteTime": {
     "end_time": "2024-02-20T06:29:32.945992900Z",
     "start_time": "2024-02-20T06:29:32.920438100Z"
    }
   },
   "outputs": [
    {
     "data": {
      "text/plain": "LinearRegression()",
      "text/html": "<style>#sk-container-id-2 {color: black;}#sk-container-id-2 pre{padding: 0;}#sk-container-id-2 div.sk-toggleable {background-color: white;}#sk-container-id-2 label.sk-toggleable__label {cursor: pointer;display: block;width: 100%;margin-bottom: 0;padding: 0.3em;box-sizing: border-box;text-align: center;}#sk-container-id-2 label.sk-toggleable__label-arrow:before {content: \"▸\";float: left;margin-right: 0.25em;color: #696969;}#sk-container-id-2 label.sk-toggleable__label-arrow:hover:before {color: black;}#sk-container-id-2 div.sk-estimator:hover label.sk-toggleable__label-arrow:before {color: black;}#sk-container-id-2 div.sk-toggleable__content {max-height: 0;max-width: 0;overflow: hidden;text-align: left;background-color: #f0f8ff;}#sk-container-id-2 div.sk-toggleable__content pre {margin: 0.2em;color: black;border-radius: 0.25em;background-color: #f0f8ff;}#sk-container-id-2 input.sk-toggleable__control:checked~div.sk-toggleable__content {max-height: 200px;max-width: 100%;overflow: auto;}#sk-container-id-2 input.sk-toggleable__control:checked~label.sk-toggleable__label-arrow:before {content: \"▾\";}#sk-container-id-2 div.sk-estimator input.sk-toggleable__control:checked~label.sk-toggleable__label {background-color: #d4ebff;}#sk-container-id-2 div.sk-label input.sk-toggleable__control:checked~label.sk-toggleable__label {background-color: #d4ebff;}#sk-container-id-2 input.sk-hidden--visually {border: 0;clip: rect(1px 1px 1px 1px);clip: rect(1px, 1px, 1px, 1px);height: 1px;margin: -1px;overflow: hidden;padding: 0;position: absolute;width: 1px;}#sk-container-id-2 div.sk-estimator {font-family: monospace;background-color: #f0f8ff;border: 1px dotted black;border-radius: 0.25em;box-sizing: border-box;margin-bottom: 0.5em;}#sk-container-id-2 div.sk-estimator:hover {background-color: #d4ebff;}#sk-container-id-2 div.sk-parallel-item::after {content: \"\";width: 100%;border-bottom: 1px solid gray;flex-grow: 1;}#sk-container-id-2 div.sk-label:hover label.sk-toggleable__label {background-color: #d4ebff;}#sk-container-id-2 div.sk-serial::before {content: \"\";position: absolute;border-left: 1px solid gray;box-sizing: border-box;top: 0;bottom: 0;left: 50%;z-index: 0;}#sk-container-id-2 div.sk-serial {display: flex;flex-direction: column;align-items: center;background-color: white;padding-right: 0.2em;padding-left: 0.2em;position: relative;}#sk-container-id-2 div.sk-item {position: relative;z-index: 1;}#sk-container-id-2 div.sk-parallel {display: flex;align-items: stretch;justify-content: center;background-color: white;position: relative;}#sk-container-id-2 div.sk-item::before, #sk-container-id-2 div.sk-parallel-item::before {content: \"\";position: absolute;border-left: 1px solid gray;box-sizing: border-box;top: 0;bottom: 0;left: 50%;z-index: -1;}#sk-container-id-2 div.sk-parallel-item {display: flex;flex-direction: column;z-index: 1;position: relative;background-color: white;}#sk-container-id-2 div.sk-parallel-item:first-child::after {align-self: flex-end;width: 50%;}#sk-container-id-2 div.sk-parallel-item:last-child::after {align-self: flex-start;width: 50%;}#sk-container-id-2 div.sk-parallel-item:only-child::after {width: 0;}#sk-container-id-2 div.sk-dashed-wrapped {border: 1px dashed gray;margin: 0 0.4em 0.5em 0.4em;box-sizing: border-box;padding-bottom: 0.4em;background-color: white;}#sk-container-id-2 div.sk-label label {font-family: monospace;font-weight: bold;display: inline-block;line-height: 1.2em;}#sk-container-id-2 div.sk-label-container {text-align: center;}#sk-container-id-2 div.sk-container {/* jupyter's `normalize.less` sets `[hidden] { display: none; }` but bootstrap.min.css set `[hidden] { display: none !important; }` so we also need the `!important` here to be able to override the default hidden behavior on the sphinx rendered scikit-learn.org. See: https://github.com/scikit-learn/scikit-learn/issues/21755 */display: inline-block !important;position: relative;}#sk-container-id-2 div.sk-text-repr-fallback {display: none;}</style><div id=\"sk-container-id-2\" class=\"sk-top-container\"><div class=\"sk-text-repr-fallback\"><pre>LinearRegression()</pre><b>In a Jupyter environment, please rerun this cell to show the HTML representation or trust the notebook. <br />On GitHub, the HTML representation is unable to render, please try loading this page with nbviewer.org.</b></div><div class=\"sk-container\" hidden><div class=\"sk-item\"><div class=\"sk-estimator sk-toggleable\"><input class=\"sk-toggleable__control sk-hidden--visually\" id=\"sk-estimator-id-2\" type=\"checkbox\" checked><label for=\"sk-estimator-id-2\" class=\"sk-toggleable__label sk-toggleable__label-arrow\">LinearRegression</label><div class=\"sk-toggleable__content\"><pre>LinearRegression()</pre></div></div></div></div></div>"
     },
     "execution_count": 67,
     "metadata": {},
     "output_type": "execute_result"
    }
   ],
   "source": [
    "#Apply the Linear Regression Model\n",
    "model = LinearRegression()\n",
    "model.fit(X_train,y_train)"
   ]
  },
  {
   "cell_type": "code",
   "execution_count": 69,
   "id": "ecaa4ef4",
   "metadata": {
    "id": "ecaa4ef4",
    "ExecuteTime": {
     "end_time": "2024-02-20T06:30:32.987701600Z",
     "start_time": "2024-02-20T06:30:32.977385600Z"
    }
   },
   "outputs": [
    {
     "name": "stdout",
     "output_type": "stream",
     "text": [
      "Mean Squared Error on testing set: 0.12887307437879553\n"
     ]
    }
   ],
   "source": [
    "#Evaluation Metrics [ Perform MSE for Evaluation of the Model]\n",
    "from sklearn.metrics import mean_squared_error\n",
    "from sklearn.metrics import mean_squared_error\n",
    "\n",
    "# Assuming you have already trained your Linear Regression model and obtained predictions on the testing set\n",
    "# Make predictions on the testing set\n",
    "y_pred_test = model.predict(X_test)  # Replace X_test with your testing features\n",
    "\n",
    "# Evaluate model performance on the testing set using Mean Squared Error (MSE)\n",
    "mse_test = mean_squared_error(y_test, y_pred_test)\n",
    "\n",
    "# Print the MSE for the Testing Set\n",
    "print(\"Mean Squared Error on testing set:\", mse_test)\n"
   ]
  },
  {
   "cell_type": "code",
   "source": [
    "#Just execute the cell after completing the above tasks. [For Authencation of the submission]\n",
    "import getpass\n",
    "from datetime import datetime\n",
    "\n",
    "username = getpass.getuser()\n",
    "timestamp = datetime.now().strftime(\"%Y-%m-%d %H:%M:%S\")\n",
    "\n",
    "print(f\"Username: {username}\")\n",
    "print(f\"Timestamp: {timestamp}\")"
   ],
   "metadata": {
    "id": "EaelXHeC9X-6",
    "ExecuteTime": {
     "end_time": "2024-02-20T06:30:36.330453500Z",
     "start_time": "2024-02-20T06:30:36.326048300Z"
    }
   },
   "id": "EaelXHeC9X-6",
   "execution_count": 70,
   "outputs": [
    {
     "name": "stdout",
     "output_type": "stream",
     "text": [
      "Username: Srikrishna U N\n",
      "Timestamp: 2024-02-20 12:00:36\n"
     ]
    }
   ]
  }
 ],
 "metadata": {
  "kernelspec": {
   "display_name": "Python 3 (ipykernel)",
   "language": "python",
   "name": "python3"
  },
  "language_info": {
   "codemirror_mode": {
    "name": "ipython",
    "version": 3
   },
   "file_extension": ".py",
   "mimetype": "text/x-python",
   "name": "python",
   "nbconvert_exporter": "python",
   "pygments_lexer": "ipython3",
   "version": "3.11.4"
  },
  "colab": {
   "provenance": []
  }
 },
 "nbformat": 4,
 "nbformat_minor": 5
}
