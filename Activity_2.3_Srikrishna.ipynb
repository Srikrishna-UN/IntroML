{
 "cells": [
  {
   "cell_type": "code",
   "execution_count": 7,
   "id": "a78d0869",
   "metadata": {},
   "outputs": [],
   "source": [
    "## Activity 2.3 - Feature Scaling [ Standarization and Normalization ]\n",
    "\n",
    "#Designed by: Ashwini Mathur , Dr. Shabbeer B, Ms Achala H and Ms Shanti K"
   ]
  },
  {
   "cell_type": "code",
   "execution_count": 1,
   "id": "a0ff86ae",
   "metadata": {
    "ExecuteTime": {
     "end_time": "2024-01-31T04:54:05.872700800Z",
     "start_time": "2024-01-31T04:53:59.930697700Z"
    }
   },
   "outputs": [],
   "source": [
    "import pandas as pd\n",
    "from sklearn import datasets\n",
    "from sklearn.preprocessing import StandardScaler, MinMaxScaler, LabelEncoder, OneHotEncoder\n",
    "import matplotlib.pyplot as plt"
   ]
  },
  {
   "cell_type": "code",
   "execution_count": 4,
   "id": "a43f9c2d",
   "metadata": {
    "ExecuteTime": {
     "end_time": "2024-01-31T04:55:35.972100300Z",
     "start_time": "2024-01-31T04:55:35.950100800Z"
    }
   },
   "outputs": [],
   "source": [
    "# Import the datsets from sklearn library - Just for Demonstration pupose\n",
    "iris = datasets.load_iris()"
   ]
  },
  {
   "cell_type": "code",
   "execution_count": 6,
   "id": "bf69a8ce",
   "metadata": {
    "ExecuteTime": {
     "end_time": "2024-01-31T05:13:14.157599300Z",
     "start_time": "2024-01-31T05:13:14.119543600Z"
    }
   },
   "outputs": [
    {
     "name": "stdout",
     "output_type": "stream",
     "text": [
      "      Id  SepalLengthCm  SepalWidthCm  PetalLengthCm  PetalWidthCm\n",
      "0      1            5.1           3.5            1.4           0.2\n",
      "1      2            4.9           3.0            1.4           0.2\n",
      "2      3            4.7           3.2            1.3           0.2\n",
      "3      4            4.6           3.1            1.5           0.2\n",
      "4      5            5.0           3.6            1.4           0.2\n",
      "..   ...            ...           ...            ...           ...\n",
      "145  146            6.7           3.0            5.2           2.3\n",
      "146  147            6.3           2.5            5.0           1.9\n",
      "147  148            6.5           3.0            5.2           2.0\n",
      "148  149           10.2           3.4           11.4           2.3\n",
      "149  152            5.9           3.0           59.1           9.8\n",
      "\n",
      "[150 rows x 5 columns]\n"
     ]
    }
   ],
   "source": [
    "# Manually load the Iris flower dataset from a CSV file\n",
    "iris_df = pd.read_csv(\"datasets/Iris.csv\")\n",
    "\n",
    "# Slice all rows except the last one using iloc\n",
    "sliced_iris_df = iris_df.drop(['Species'],axis=1)\n",
    "taregt = iris_df['Species']\n",
    "\n",
    "# View the sliced DataFrame\n",
    "print(sliced_iris_df)"
   ]
  },
  {
   "cell_type": "markdown",
   "id": "573db22d",
   "metadata": {},
   "source": [
    "### Study of Outliers in the Dataset : \n",
    "\n",
    "    1. Z-Score Method **[ Standardization technique ]**\n",
    "    2. IQR / Data Visualization {BOX PLOT} method"
   ]
  },
  {
   "cell_type": "code",
   "execution_count": 9,
   "id": "b3ef0927",
   "metadata": {
    "ExecuteTime": {
     "end_time": "2024-01-31T05:16:41.764327300Z",
     "start_time": "2024-01-31T05:16:41.730052600Z"
    }
   },
   "outputs": [
    {
     "data": {
      "text/plain": "           Id  SepalLengthCm  SepalWidthCm  PetalLengthCm  PetalWidthCm\n0   -1.714184      -0.683194      0.187307      -0.564658     -0.542217\n1   -1.691179      -0.847819     -0.112224      -0.564658     -0.542217\n2   -1.668174      -1.012444      0.007588      -0.585127     -0.542217\n3   -1.645169      -1.094756     -0.052318      -0.544190     -0.542217\n4   -1.622164      -0.765506      0.247213      -0.564658     -0.542217\n..        ...            ...           ...            ...           ...\n145  1.621550       0.633806     -0.112224       0.213145      0.339095\n146  1.644555       0.304556     -0.411755       0.172208      0.171226\n147  1.667561       0.469181     -0.112224       0.213145      0.213194\n148  1.690566       3.514743      0.127401       1.482194      0.339095\n149  1.759581      -0.024694     -0.112224      11.245676      3.486638\n\n[150 rows x 5 columns]",
      "text/html": "<div>\n<style scoped>\n    .dataframe tbody tr th:only-of-type {\n        vertical-align: middle;\n    }\n\n    .dataframe tbody tr th {\n        vertical-align: top;\n    }\n\n    .dataframe thead th {\n        text-align: right;\n    }\n</style>\n<table border=\"1\" class=\"dataframe\">\n  <thead>\n    <tr style=\"text-align: right;\">\n      <th></th>\n      <th>Id</th>\n      <th>SepalLengthCm</th>\n      <th>SepalWidthCm</th>\n      <th>PetalLengthCm</th>\n      <th>PetalWidthCm</th>\n    </tr>\n  </thead>\n  <tbody>\n    <tr>\n      <th>0</th>\n      <td>-1.714184</td>\n      <td>-0.683194</td>\n      <td>0.187307</td>\n      <td>-0.564658</td>\n      <td>-0.542217</td>\n    </tr>\n    <tr>\n      <th>1</th>\n      <td>-1.691179</td>\n      <td>-0.847819</td>\n      <td>-0.112224</td>\n      <td>-0.564658</td>\n      <td>-0.542217</td>\n    </tr>\n    <tr>\n      <th>2</th>\n      <td>-1.668174</td>\n      <td>-1.012444</td>\n      <td>0.007588</td>\n      <td>-0.585127</td>\n      <td>-0.542217</td>\n    </tr>\n    <tr>\n      <th>3</th>\n      <td>-1.645169</td>\n      <td>-1.094756</td>\n      <td>-0.052318</td>\n      <td>-0.544190</td>\n      <td>-0.542217</td>\n    </tr>\n    <tr>\n      <th>4</th>\n      <td>-1.622164</td>\n      <td>-0.765506</td>\n      <td>0.247213</td>\n      <td>-0.564658</td>\n      <td>-0.542217</td>\n    </tr>\n    <tr>\n      <th>...</th>\n      <td>...</td>\n      <td>...</td>\n      <td>...</td>\n      <td>...</td>\n      <td>...</td>\n    </tr>\n    <tr>\n      <th>145</th>\n      <td>1.621550</td>\n      <td>0.633806</td>\n      <td>-0.112224</td>\n      <td>0.213145</td>\n      <td>0.339095</td>\n    </tr>\n    <tr>\n      <th>146</th>\n      <td>1.644555</td>\n      <td>0.304556</td>\n      <td>-0.411755</td>\n      <td>0.172208</td>\n      <td>0.171226</td>\n    </tr>\n    <tr>\n      <th>147</th>\n      <td>1.667561</td>\n      <td>0.469181</td>\n      <td>-0.112224</td>\n      <td>0.213145</td>\n      <td>0.213194</td>\n    </tr>\n    <tr>\n      <th>148</th>\n      <td>1.690566</td>\n      <td>3.514743</td>\n      <td>0.127401</td>\n      <td>1.482194</td>\n      <td>0.339095</td>\n    </tr>\n    <tr>\n      <th>149</th>\n      <td>1.759581</td>\n      <td>-0.024694</td>\n      <td>-0.112224</td>\n      <td>11.245676</td>\n      <td>3.486638</td>\n    </tr>\n  </tbody>\n</table>\n<p>150 rows × 5 columns</p>\n</div>"
     },
     "execution_count": 9,
     "metadata": {},
     "output_type": "execute_result"
    }
   ],
   "source": [
    "#Calculate the z score\n",
    "z_scores = (sliced_iris_df - sliced_iris_df.mean())/sliced_iris_df.std()\n",
    "z_scores"
   ]
  },
  {
   "cell_type": "code",
   "execution_count": 10,
   "id": "fe48e10e",
   "metadata": {
    "ExecuteTime": {
     "end_time": "2024-01-31T05:16:46.900671Z",
     "start_time": "2024-01-31T05:16:46.854314500Z"
    }
   },
   "outputs": [
    {
     "name": "stdout",
     "output_type": "stream",
     "text": [
      "Outliers detected using Z-score method:\n",
      "      Id  SepalLengthCm  SepalWidthCm  PetalLengthCm  PetalWidthCm\n",
      "0   NaN            NaN           NaN            NaN           NaN\n",
      "1   NaN            NaN           NaN            NaN           NaN\n",
      "2   NaN            NaN           NaN            NaN           NaN\n",
      "3   NaN            NaN           NaN            NaN           NaN\n",
      "4   NaN            NaN           NaN            NaN           NaN\n",
      "..   ..            ...           ...            ...           ...\n",
      "145 NaN            NaN           NaN            NaN           NaN\n",
      "146 NaN            NaN           NaN            NaN           NaN\n",
      "147 NaN            NaN           NaN            NaN           NaN\n",
      "148 NaN           10.2           NaN            NaN           NaN\n",
      "149 NaN            NaN           NaN           59.1           9.8\n",
      "\n",
      "[150 rows x 5 columns]\n"
     ]
    }
   ],
   "source": [
    "threshold = 3  # Adjust threshold as needed\n",
    "outliers = sliced_iris_df[abs(z_scores) > threshold]\n",
    "print(\"Outliers detected using Z-score method:\\n\", outliers)"
   ]
  },
  {
   "cell_type": "code",
   "execution_count": 11,
   "outputs": [
    {
     "data": {
      "text/plain": "Id               150\nSepalLengthCm    148\nSepalWidthCm     149\nPetalLengthCm    149\nPetalWidthCm     147\ndtype: int64"
     },
     "execution_count": 11,
     "metadata": {},
     "output_type": "execute_result"
    }
   ],
   "source": [
    "outliers.isna().sum()"
   ],
   "metadata": {
    "collapsed": false,
    "ExecuteTime": {
     "end_time": "2024-01-31T05:18:59.495726400Z",
     "start_time": "2024-01-31T05:18:59.427368900Z"
    }
   }
  },
  {
   "cell_type": "code",
   "execution_count": 12,
   "id": "ee322f03",
   "metadata": {
    "ExecuteTime": {
     "end_time": "2024-01-31T05:22:02.717595Z",
     "start_time": "2024-01-31T05:22:02.663256300Z"
    }
   },
   "outputs": [
    {
     "name": "stdout",
     "output_type": "stream",
     "text": [
      "Rows with Outliers:       Id  SepalLengthCm  SepalWidthCm  PetalLengthCm  PetalWidthCm\n",
      "130  131            7.4          22.8            6.1          19.9\n",
      "141  142           15.9           3.1            5.1           2.3\n",
      "142  143            5.8           2.7            5.1          19.9\n",
      "148  149           10.2           3.4           11.4           2.3\n",
      "149  152            5.9           3.0           59.1           9.8\n"
     ]
    }
   ],
   "source": [
    "#Calculate the zscore using pre-build method in scipy library\n",
    "from scipy import stats\n",
    "\n",
    "# Specify columns to check for outliers\n",
    "columns_to_check = ['SepalLengthCm']\n",
    "\n",
    "# Calculate Z-scores for each column\n",
    "#z_scores = stats.zscore(sliced_iris_df[columns_to_check])\n",
    "z_scores = stats.zscore(sliced_iris_df)\n",
    "\n",
    "# Define a threshold for outlier detection (e.g., 3 standard deviations)\n",
    "threshold = 3\n",
    "outlier_indices = (z_scores > threshold).any(axis=1)\n",
    "outliers_df = sliced_iris_df[outlier_indices]\n",
    "\n",
    "print(\"Rows with Outliers:\", outliers_df)"
   ]
  },
  {
   "cell_type": "code",
   "execution_count": 13,
   "id": "1b7d1c93",
   "metadata": {
    "ExecuteTime": {
     "end_time": "2024-01-31T05:22:06.795326800Z",
     "start_time": "2024-01-31T05:22:06.745300600Z"
    }
   },
   "outputs": [
    {
     "data": {
      "text/plain": "5"
     },
     "execution_count": 13,
     "metadata": {},
     "output_type": "execute_result"
    }
   ],
   "source": [
    "outlier_indices.sum()"
   ]
  },
  {
   "cell_type": "code",
   "execution_count": 14,
   "id": "3b63dc55",
   "metadata": {
    "ExecuteTime": {
     "end_time": "2024-01-31T05:22:29.133797400Z",
     "start_time": "2024-01-31T05:22:29.086746Z"
    }
   },
   "outputs": [
    {
     "name": "stdout",
     "output_type": "stream",
     "text": [
      "Possible outliers using IQR:       Id  SepalLengthCm  SepalWidthCm  PetalLengthCm  PetalWidthCm\n",
      "130  131            7.4          22.8            6.1          19.9\n",
      "141  142           15.9           3.1            5.1           2.3\n",
      "142  143            5.8           2.7            5.1          19.9\n",
      "149  152            5.9           3.0           59.1           9.8\n"
     ]
    }
   ],
   "source": [
    "# Calculate IQR for each feature\n",
    "IQR = sliced_iris_df.quantile(0.95) - sliced_iris_df.quantile(0.05)\n",
    "\n",
    "# Identify outliers based on IQR\n",
    "outliers_iqr = sliced_iris_df[((sliced_iris_df < (sliced_iris_df.quantile(0.25) - 1.5 * IQR)) | (sliced_iris_df > (sliced_iris_df.quantile(0.95) + 1.5 * IQR))).any(axis=1)]\n",
    "print(f\"Possible outliers using IQR: {outliers_iqr}\")"
   ]
  },
  {
   "cell_type": "code",
   "execution_count": 20,
   "id": "d10326d0",
   "metadata": {
    "ExecuteTime": {
     "end_time": "2024-01-31T05:29:30.680094800Z",
     "start_time": "2024-01-31T05:29:30.534093400Z"
    }
   },
   "outputs": [
    {
     "data": {
      "text/plain": "<AxesSubplot:>"
     },
     "execution_count": 20,
     "metadata": {},
     "output_type": "execute_result"
    },
    {
     "data": {
      "text/plain": "<Figure size 640x480 with 1 Axes>",
      "image/png": "[encoded data removed]"
     },
     "metadata": {},
     "output_type": "display_data"
    }
   ],
   "source": [
    "sliced_iris_df[['SepalLengthCm' ,'SepalWidthCm',  'PetalLengthCm' , 'PetalWidthCm']].boxplot()"
   ]
  },
  {
   "cell_type": "markdown",
   "source": [
    "**Different Methods to remove outliers** <br>\n",
    "01. Direct <br>\n",
    "02. Quantile-Based Capping and Flooring [self]<br>\n",
    "03. Mean/Median Imputation [self] <br>"
   ],
   "metadata": {
    "collapsed": false
   }
  },
  {
   "cell_type": "code",
   "execution_count": 21,
   "outputs": [
    {
     "data": {
      "text/plain": "      Id  SepalLengthCm  SepalWidthCm  PetalLengthCm  PetalWidthCm\n0      1            5.1           3.5            1.4           0.2\n1      2            4.9           3.0            1.4           0.2\n2      3            4.7           3.2            1.3           0.2\n3      4            4.6           3.1            1.5           0.2\n4      5            5.0           3.6            1.4           0.2\n..   ...            ...           ...            ...           ...\n143  144            6.8           3.2            5.9           2.3\n144  145            6.7           3.3            5.7           2.5\n145  146            6.7           3.0            5.2           2.3\n146  147            6.3           2.5            5.0           1.9\n147  148            6.5           3.0            5.2           2.0\n\n[145 rows x 5 columns]",
      "text/html": "<div>\n<style scoped>\n    .dataframe tbody tr th:only-of-type {\n        vertical-align: middle;\n    }\n\n    .dataframe tbody tr th {\n        vertical-align: top;\n    }\n\n    .dataframe thead th {\n        text-align: right;\n    }\n</style>\n<table border=\"1\" class=\"dataframe\">\n  <thead>\n    <tr style=\"text-align: right;\">\n      <th></th>\n      <th>Id</th>\n      <th>SepalLengthCm</th>\n      <th>SepalWidthCm</th>\n      <th>PetalLengthCm</th>\n      <th>PetalWidthCm</th>\n    </tr>\n  </thead>\n  <tbody>\n    <tr>\n      <th>0</th>\n      <td>1</td>\n      <td>5.1</td>\n      <td>3.5</td>\n      <td>1.4</td>\n      <td>0.2</td>\n    </tr>\n    <tr>\n      <th>1</th>\n      <td>2</td>\n      <td>4.9</td>\n      <td>3.0</td>\n      <td>1.4</td>\n      <td>0.2</td>\n    </tr>\n    <tr>\n      <th>2</th>\n      <td>3</td>\n      <td>4.7</td>\n      <td>3.2</td>\n      <td>1.3</td>\n      <td>0.2</td>\n    </tr>\n    <tr>\n      <th>3</th>\n      <td>4</td>\n      <td>4.6</td>\n      <td>3.1</td>\n      <td>1.5</td>\n      <td>0.2</td>\n    </tr>\n    <tr>\n      <th>4</th>\n      <td>5</td>\n      <td>5.0</td>\n      <td>3.6</td>\n      <td>1.4</td>\n      <td>0.2</td>\n    </tr>\n    <tr>\n      <th>...</th>\n      <td>...</td>\n      <td>...</td>\n      <td>...</td>\n      <td>...</td>\n      <td>...</td>\n    </tr>\n    <tr>\n      <th>143</th>\n      <td>144</td>\n      <td>6.8</td>\n      <td>3.2</td>\n      <td>5.9</td>\n      <td>2.3</td>\n    </tr>\n    <tr>\n      <th>144</th>\n      <td>145</td>\n      <td>6.7</td>\n      <td>3.3</td>\n      <td>5.7</td>\n      <td>2.5</td>\n    </tr>\n    <tr>\n      <th>145</th>\n      <td>146</td>\n      <td>6.7</td>\n      <td>3.0</td>\n      <td>5.2</td>\n      <td>2.3</td>\n    </tr>\n    <tr>\n      <th>146</th>\n      <td>147</td>\n      <td>6.3</td>\n      <td>2.5</td>\n      <td>5.0</td>\n      <td>1.9</td>\n    </tr>\n    <tr>\n      <th>147</th>\n      <td>148</td>\n      <td>6.5</td>\n      <td>3.0</td>\n      <td>5.2</td>\n      <td>2.0</td>\n    </tr>\n  </tbody>\n</table>\n<p>145 rows × 5 columns</p>\n</div>"
     },
     "execution_count": 21,
     "metadata": {},
     "output_type": "execute_result"
    }
   ],
   "source": [
    "#Direct Method - Remove the outlier indices\n",
    "sliced_iris_df = sliced_iris_df[~outlier_indices]\n",
    "sliced_iris_df"
   ],
   "metadata": {
    "collapsed": false,
    "ExecuteTime": {
     "end_time": "2024-01-31T05:33:45.978649900Z",
     "start_time": "2024-01-31T05:33:45.958017800Z"
    }
   }
  }
 ],
 "metadata": {
  "kernelspec": {
   "display_name": "Python 3 (ipykernel)",
   "language": "python",
   "name": "python3"
  },
  "language_info": {
   "codemirror_mode": {
    "name": "ipython",
    "version": 3
   },
   "file_extension": ".py",
   "mimetype": "text/x-python",
   "name": "python",
   "nbconvert_exporter": "python",
   "pygments_lexer": "ipython3",
   "version": "3.11.5"
  }
 },
 "nbformat": 4,
 "nbformat_minor": 5
}
