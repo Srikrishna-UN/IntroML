{
 "cells": [
  {
   "cell_type": "code",
   "execution_count": 5,
   "metadata": {
    "collapsed": true,
    "ExecuteTime": {
     "end_time": "2024-02-23T06:53:41.901514900Z",
     "start_time": "2024-02-23T06:53:41.887334600Z"
    }
   },
   "outputs": [],
   "source": [
    "import pandas as pd\n",
    "from sklearn.model_selection import train_test_split\n",
    "from sklearn.neighbors import KNeighborsClassifier\n",
    "from sklearn.preprocessing import StandardScaler"
   ]
  },
  {
   "cell_type": "code",
   "execution_count": 2,
   "outputs": [
    {
     "data": {
      "text/plain": "     Unnamed: 0       WTT       PTI       EQW       SBI       LQE       QWG  \\\n0             0  0.913917  1.162073  0.567946  0.755464  0.780862  0.352608   \n1             1  0.635632  1.003722  0.535342  0.825645  0.924109  0.648450   \n2             2  0.721360  1.201493  0.921990  0.855595  1.526629  0.720781   \n3             3  1.234204  1.386726  0.653046  0.825624  1.142504  0.875128   \n4             4  1.279491  0.949750  0.627280  0.668976  1.232537  0.703727   \n..          ...       ...       ...       ...       ...       ...       ...   \n995         995  1.010953  1.034006  0.853116  0.622460  1.036610  0.586240   \n996         996  0.575529  0.955786  0.941835  0.792882  1.414277  1.269540   \n997         997  1.135470  0.982462  0.781905  0.916738  0.901031  0.884738   \n998         998  1.084894  0.861769  0.407158  0.665696  1.608612  0.943859   \n999         999  0.837460  0.961184  0.417006  0.799784  0.934399  0.424762   \n\n          FDJ       PJF       HQE       NXJ  TARGET CLASS  \n0    0.759697  0.643798  0.879422  1.231409             1  \n1    0.675334  1.013546  0.621552  1.492702             0  \n2    1.626351  1.154483  0.957877  1.285597             0  \n3    1.409708  1.380003  1.522692  1.153093             1  \n4    1.115596  0.646691  1.463812  1.419167             1  \n..        ...       ...       ...       ...           ...  \n995  0.746811  0.319752  1.117340  1.348517             1  \n996  1.055928  0.713193  0.958684  1.663489             0  \n997  0.386802  0.389584  0.919191  1.385504             1  \n998  0.855806  1.061338  1.277456  1.188063             1  \n999  0.778234  0.907962  1.257190  1.364837             1  \n\n[1000 rows x 12 columns]",
      "text/html": "<div>\n<style scoped>\n    .dataframe tbody tr th:only-of-type {\n        vertical-align: middle;\n    }\n\n    .dataframe tbody tr th {\n        vertical-align: top;\n    }\n\n    .dataframe thead th {\n        text-align: right;\n    }\n</style>\n<table border=\"1\" class=\"dataframe\">\n  <thead>\n    <tr style=\"text-align: right;\">\n      <th></th>\n      <th>Unnamed: 0</th>\n      <th>WTT</th>\n      <th>PTI</th>\n      <th>EQW</th>\n      <th>SBI</th>\n      <th>LQE</th>\n      <th>QWG</th>\n      <th>FDJ</th>\n      <th>PJF</th>\n      <th>HQE</th>\n      <th>NXJ</th>\n      <th>TARGET CLASS</th>\n    </tr>\n  </thead>\n  <tbody>\n    <tr>\n      <th>0</th>\n      <td>0</td>\n      <td>0.913917</td>\n      <td>1.162073</td>\n      <td>0.567946</td>\n      <td>0.755464</td>\n      <td>0.780862</td>\n      <td>0.352608</td>\n      <td>0.759697</td>\n      <td>0.643798</td>\n      <td>0.879422</td>\n      <td>1.231409</td>\n      <td>1</td>\n    </tr>\n    <tr>\n      <th>1</th>\n      <td>1</td>\n      <td>0.635632</td>\n      <td>1.003722</td>\n      <td>0.535342</td>\n      <td>0.825645</td>\n      <td>0.924109</td>\n      <td>0.648450</td>\n      <td>0.675334</td>\n      <td>1.013546</td>\n      <td>0.621552</td>\n      <td>1.492702</td>\n      <td>0</td>\n    </tr>\n    <tr>\n      <th>2</th>\n      <td>2</td>\n      <td>0.721360</td>\n      <td>1.201493</td>\n      <td>0.921990</td>\n      <td>0.855595</td>\n      <td>1.526629</td>\n      <td>0.720781</td>\n      <td>1.626351</td>\n      <td>1.154483</td>\n      <td>0.957877</td>\n      <td>1.285597</td>\n      <td>0</td>\n    </tr>\n    <tr>\n      <th>3</th>\n      <td>3</td>\n      <td>1.234204</td>\n      <td>1.386726</td>\n      <td>0.653046</td>\n      <td>0.825624</td>\n      <td>1.142504</td>\n      <td>0.875128</td>\n      <td>1.409708</td>\n      <td>1.380003</td>\n      <td>1.522692</td>\n      <td>1.153093</td>\n      <td>1</td>\n    </tr>\n    <tr>\n      <th>4</th>\n      <td>4</td>\n      <td>1.279491</td>\n      <td>0.949750</td>\n      <td>0.627280</td>\n      <td>0.668976</td>\n      <td>1.232537</td>\n      <td>0.703727</td>\n      <td>1.115596</td>\n      <td>0.646691</td>\n      <td>1.463812</td>\n      <td>1.419167</td>\n      <td>1</td>\n    </tr>\n    <tr>\n      <th>...</th>\n      <td>...</td>\n      <td>...</td>\n      <td>...</td>\n      <td>...</td>\n      <td>...</td>\n      <td>...</td>\n      <td>...</td>\n      <td>...</td>\n      <td>...</td>\n      <td>...</td>\n      <td>...</td>\n      <td>...</td>\n    </tr>\n    <tr>\n      <th>995</th>\n      <td>995</td>\n      <td>1.010953</td>\n      <td>1.034006</td>\n      <td>0.853116</td>\n      <td>0.622460</td>\n      <td>1.036610</td>\n      <td>0.586240</td>\n      <td>0.746811</td>\n      <td>0.319752</td>\n      <td>1.117340</td>\n      <td>1.348517</td>\n      <td>1</td>\n    </tr>\n    <tr>\n      <th>996</th>\n      <td>996</td>\n      <td>0.575529</td>\n      <td>0.955786</td>\n      <td>0.941835</td>\n      <td>0.792882</td>\n      <td>1.414277</td>\n      <td>1.269540</td>\n      <td>1.055928</td>\n      <td>0.713193</td>\n      <td>0.958684</td>\n      <td>1.663489</td>\n      <td>0</td>\n    </tr>\n    <tr>\n      <th>997</th>\n      <td>997</td>\n      <td>1.135470</td>\n      <td>0.982462</td>\n      <td>0.781905</td>\n      <td>0.916738</td>\n      <td>0.901031</td>\n      <td>0.884738</td>\n      <td>0.386802</td>\n      <td>0.389584</td>\n      <td>0.919191</td>\n      <td>1.385504</td>\n      <td>1</td>\n    </tr>\n    <tr>\n      <th>998</th>\n      <td>998</td>\n      <td>1.084894</td>\n      <td>0.861769</td>\n      <td>0.407158</td>\n      <td>0.665696</td>\n      <td>1.608612</td>\n      <td>0.943859</td>\n      <td>0.855806</td>\n      <td>1.061338</td>\n      <td>1.277456</td>\n      <td>1.188063</td>\n      <td>1</td>\n    </tr>\n    <tr>\n      <th>999</th>\n      <td>999</td>\n      <td>0.837460</td>\n      <td>0.961184</td>\n      <td>0.417006</td>\n      <td>0.799784</td>\n      <td>0.934399</td>\n      <td>0.424762</td>\n      <td>0.778234</td>\n      <td>0.907962</td>\n      <td>1.257190</td>\n      <td>1.364837</td>\n      <td>1</td>\n    </tr>\n  </tbody>\n</table>\n<p>1000 rows × 12 columns</p>\n</div>"
     },
     "execution_count": 2,
     "metadata": {},
     "output_type": "execute_result"
    }
   ],
   "source": [
    "class_df = pd.read_csv(\"datasets/Classified_Data.txt\")\n",
    "class_df"
   ],
   "metadata": {
    "collapsed": false,
    "ExecuteTime": {
     "end_time": "2024-02-23T06:50:26.597050400Z",
     "start_time": "2024-02-23T06:50:26.554024300Z"
    }
   }
  },
  {
   "cell_type": "code",
   "execution_count": 6,
   "outputs": [
    {
     "data": {
      "text/plain": "          WTT       PTI       EQW       SBI       LQE       QWG       FDJ  \\\n0    0.913917  1.162073  0.567946  0.755464  0.780862  0.352608  0.759697   \n1    0.635632  1.003722  0.535342  0.825645  0.924109  0.648450  0.675334   \n2    0.721360  1.201493  0.921990  0.855595  1.526629  0.720781  1.626351   \n3    1.234204  1.386726  0.653046  0.825624  1.142504  0.875128  1.409708   \n4    1.279491  0.949750  0.627280  0.668976  1.232537  0.703727  1.115596   \n..        ...       ...       ...       ...       ...       ...       ...   \n995  1.010953  1.034006  0.853116  0.622460  1.036610  0.586240  0.746811   \n996  0.575529  0.955786  0.941835  0.792882  1.414277  1.269540  1.055928   \n997  1.135470  0.982462  0.781905  0.916738  0.901031  0.884738  0.386802   \n998  1.084894  0.861769  0.407158  0.665696  1.608612  0.943859  0.855806   \n999  0.837460  0.961184  0.417006  0.799784  0.934399  0.424762  0.778234   \n\n          PJF       HQE       NXJ  \n0    0.643798  0.879422  1.231409  \n1    1.013546  0.621552  1.492702  \n2    1.154483  0.957877  1.285597  \n3    1.380003  1.522692  1.153093  \n4    0.646691  1.463812  1.419167  \n..        ...       ...       ...  \n995  0.319752  1.117340  1.348517  \n996  0.713193  0.958684  1.663489  \n997  0.389584  0.919191  1.385504  \n998  1.061338  1.277456  1.188063  \n999  0.907962  1.257190  1.364837  \n\n[1000 rows x 10 columns]",
      "text/html": "<div>\n<style scoped>\n    .dataframe tbody tr th:only-of-type {\n        vertical-align: middle;\n    }\n\n    .dataframe tbody tr th {\n        vertical-align: top;\n    }\n\n    .dataframe thead th {\n        text-align: right;\n    }\n</style>\n<table border=\"1\" class=\"dataframe\">\n  <thead>\n    <tr style=\"text-align: right;\">\n      <th></th>\n      <th>WTT</th>\n      <th>PTI</th>\n      <th>EQW</th>\n      <th>SBI</th>\n      <th>LQE</th>\n      <th>QWG</th>\n      <th>FDJ</th>\n      <th>PJF</th>\n      <th>HQE</th>\n      <th>NXJ</th>\n    </tr>\n  </thead>\n  <tbody>\n    <tr>\n      <th>0</th>\n      <td>0.913917</td>\n      <td>1.162073</td>\n      <td>0.567946</td>\n      <td>0.755464</td>\n      <td>0.780862</td>\n      <td>0.352608</td>\n      <td>0.759697</td>\n      <td>0.643798</td>\n      <td>0.879422</td>\n      <td>1.231409</td>\n    </tr>\n    <tr>\n      <th>1</th>\n      <td>0.635632</td>\n      <td>1.003722</td>\n      <td>0.535342</td>\n      <td>0.825645</td>\n      <td>0.924109</td>\n      <td>0.648450</td>\n      <td>0.675334</td>\n      <td>1.013546</td>\n      <td>0.621552</td>\n      <td>1.492702</td>\n    </tr>\n    <tr>\n      <th>2</th>\n      <td>0.721360</td>\n      <td>1.201493</td>\n      <td>0.921990</td>\n      <td>0.855595</td>\n      <td>1.526629</td>\n      <td>0.720781</td>\n      <td>1.626351</td>\n      <td>1.154483</td>\n      <td>0.957877</td>\n      <td>1.285597</td>\n    </tr>\n    <tr>\n      <th>3</th>\n      <td>1.234204</td>\n      <td>1.386726</td>\n      <td>0.653046</td>\n      <td>0.825624</td>\n      <td>1.142504</td>\n      <td>0.875128</td>\n      <td>1.409708</td>\n      <td>1.380003</td>\n      <td>1.522692</td>\n      <td>1.153093</td>\n    </tr>\n    <tr>\n      <th>4</th>\n      <td>1.279491</td>\n      <td>0.949750</td>\n      <td>0.627280</td>\n      <td>0.668976</td>\n      <td>1.232537</td>\n      <td>0.703727</td>\n      <td>1.115596</td>\n      <td>0.646691</td>\n      <td>1.463812</td>\n      <td>1.419167</td>\n    </tr>\n    <tr>\n      <th>...</th>\n      <td>...</td>\n      <td>...</td>\n      <td>...</td>\n      <td>...</td>\n      <td>...</td>\n      <td>...</td>\n      <td>...</td>\n      <td>...</td>\n      <td>...</td>\n      <td>...</td>\n    </tr>\n    <tr>\n      <th>995</th>\n      <td>1.010953</td>\n      <td>1.034006</td>\n      <td>0.853116</td>\n      <td>0.622460</td>\n      <td>1.036610</td>\n      <td>0.586240</td>\n      <td>0.746811</td>\n      <td>0.319752</td>\n      <td>1.117340</td>\n      <td>1.348517</td>\n    </tr>\n    <tr>\n      <th>996</th>\n      <td>0.575529</td>\n      <td>0.955786</td>\n      <td>0.941835</td>\n      <td>0.792882</td>\n      <td>1.414277</td>\n      <td>1.269540</td>\n      <td>1.055928</td>\n      <td>0.713193</td>\n      <td>0.958684</td>\n      <td>1.663489</td>\n    </tr>\n    <tr>\n      <th>997</th>\n      <td>1.135470</td>\n      <td>0.982462</td>\n      <td>0.781905</td>\n      <td>0.916738</td>\n      <td>0.901031</td>\n      <td>0.884738</td>\n      <td>0.386802</td>\n      <td>0.389584</td>\n      <td>0.919191</td>\n      <td>1.385504</td>\n    </tr>\n    <tr>\n      <th>998</th>\n      <td>1.084894</td>\n      <td>0.861769</td>\n      <td>0.407158</td>\n      <td>0.665696</td>\n      <td>1.608612</td>\n      <td>0.943859</td>\n      <td>0.855806</td>\n      <td>1.061338</td>\n      <td>1.277456</td>\n      <td>1.188063</td>\n    </tr>\n    <tr>\n      <th>999</th>\n      <td>0.837460</td>\n      <td>0.961184</td>\n      <td>0.417006</td>\n      <td>0.799784</td>\n      <td>0.934399</td>\n      <td>0.424762</td>\n      <td>0.778234</td>\n      <td>0.907962</td>\n      <td>1.257190</td>\n      <td>1.364837</td>\n    </tr>\n  </tbody>\n</table>\n<p>1000 rows × 10 columns</p>\n</div>"
     },
     "execution_count": 6,
     "metadata": {},
     "output_type": "execute_result"
    }
   ],
   "source": [
    "X = class_df[[\"WTT\",'PTI','EQW','SBI','LQE','QWG','FDJ','PJF','HQE','NXJ']]\n",
    "y = class_df[['TARGET CLASS']]\n",
    "scaler = StandardScaler()\n",
    "scaler.fit_transform(X)\n",
    "X"
   ],
   "metadata": {
    "collapsed": false,
    "ExecuteTime": {
     "end_time": "2024-02-23T06:53:45.417900Z",
     "start_time": "2024-02-23T06:53:45.387946400Z"
    }
   }
  },
  {
   "cell_type": "code",
   "execution_count": 8,
   "outputs": [
    {
     "data": {
      "text/plain": "(700, 700, 300, 300)"
     },
     "execution_count": 8,
     "metadata": {},
     "output_type": "execute_result"
    }
   ],
   "source": [
    "X_train,X_test,y_train,y_test = train_test_split(X,y,train_size=0.7,shuffle=True)\n",
    "len(X_train),len(y_train),len(X_test),len(y_test)"
   ],
   "metadata": {
    "collapsed": false,
    "ExecuteTime": {
     "end_time": "2024-02-23T06:58:35.931382Z",
     "start_time": "2024-02-23T06:58:35.924513400Z"
    }
   }
  },
  {
   "cell_type": "code",
   "execution_count": 28,
   "outputs": [
    {
     "name": "stderr",
     "output_type": "stream",
     "text": [
      "C:\\Program Files(x86)\\Python311\\Lib\\site-packages\\sklearn\\neighbors\\_classification.py:233: DataConversionWarning: A column-vector y was passed when a 1d array was expected. Please change the shape of y to (n_samples,), for example using ravel().\n",
      "  return self._fit(X, y)\n"
     ]
    },
    {
     "data": {
      "text/plain": "KNeighborsClassifier(n_neighbors=4)",
      "text/html": "<style>#sk-container-id-7 {color: black;}#sk-container-id-7 pre{padding: 0;}#sk-container-id-7 div.sk-toggleable {background-color: white;}#sk-container-id-7 label.sk-toggleable__label {cursor: pointer;display: block;width: 100%;margin-bottom: 0;padding: 0.3em;box-sizing: border-box;text-align: center;}#sk-container-id-7 label.sk-toggleable__label-arrow:before {content: \"▸\";float: left;margin-right: 0.25em;color: #696969;}#sk-container-id-7 label.sk-toggleable__label-arrow:hover:before {color: black;}#sk-container-id-7 div.sk-estimator:hover label.sk-toggleable__label-arrow:before {color: black;}#sk-container-id-7 div.sk-toggleable__content {max-height: 0;max-width: 0;overflow: hidden;text-align: left;background-color: #f0f8ff;}#sk-container-id-7 div.sk-toggleable__content pre {margin: 0.2em;color: black;border-radius: 0.25em;background-color: #f0f8ff;}#sk-container-id-7 input.sk-toggleable__control:checked~div.sk-toggleable__content {max-height: 200px;max-width: 100%;overflow: auto;}#sk-container-id-7 input.sk-toggleable__control:checked~label.sk-toggleable__label-arrow:before {content: \"▾\";}#sk-container-id-7 div.sk-estimator input.sk-toggleable__control:checked~label.sk-toggleable__label {background-color: #d4ebff;}#sk-container-id-7 div.sk-label input.sk-toggleable__control:checked~label.sk-toggleable__label {background-color: #d4ebff;}#sk-container-id-7 input.sk-hidden--visually {border: 0;clip: rect(1px 1px 1px 1px);clip: rect(1px, 1px, 1px, 1px);height: 1px;margin: -1px;overflow: hidden;padding: 0;position: absolute;width: 1px;}#sk-container-id-7 div.sk-estimator {font-family: monospace;background-color: #f0f8ff;border: 1px dotted black;border-radius: 0.25em;box-sizing: border-box;margin-bottom: 0.5em;}#sk-container-id-7 div.sk-estimator:hover {background-color: #d4ebff;}#sk-container-id-7 div.sk-parallel-item::after {content: \"\";width: 100%;border-bottom: 1px solid gray;flex-grow: 1;}#sk-container-id-7 div.sk-label:hover label.sk-toggleable__label {background-color: #d4ebff;}#sk-container-id-7 div.sk-serial::before {content: \"\";position: absolute;border-left: 1px solid gray;box-sizing: border-box;top: 0;bottom: 0;left: 50%;z-index: 0;}#sk-container-id-7 div.sk-serial {display: flex;flex-direction: column;align-items: center;background-color: white;padding-right: 0.2em;padding-left: 0.2em;position: relative;}#sk-container-id-7 div.sk-item {position: relative;z-index: 1;}#sk-container-id-7 div.sk-parallel {display: flex;align-items: stretch;justify-content: center;background-color: white;position: relative;}#sk-container-id-7 div.sk-item::before, #sk-container-id-7 div.sk-parallel-item::before {content: \"\";position: absolute;border-left: 1px solid gray;box-sizing: border-box;top: 0;bottom: 0;left: 50%;z-index: -1;}#sk-container-id-7 div.sk-parallel-item {display: flex;flex-direction: column;z-index: 1;position: relative;background-color: white;}#sk-container-id-7 div.sk-parallel-item:first-child::after {align-self: flex-end;width: 50%;}#sk-container-id-7 div.sk-parallel-item:last-child::after {align-self: flex-start;width: 50%;}#sk-container-id-7 div.sk-parallel-item:only-child::after {width: 0;}#sk-container-id-7 div.sk-dashed-wrapped {border: 1px dashed gray;margin: 0 0.4em 0.5em 0.4em;box-sizing: border-box;padding-bottom: 0.4em;background-color: white;}#sk-container-id-7 div.sk-label label {font-family: monospace;font-weight: bold;display: inline-block;line-height: 1.2em;}#sk-container-id-7 div.sk-label-container {text-align: center;}#sk-container-id-7 div.sk-container {/* jupyter's `normalize.less` sets `[hidden] { display: none; }` but bootstrap.min.css set `[hidden] { display: none !important; }` so we also need the `!important` here to be able to override the default hidden behavior on the sphinx rendered scikit-learn.org. See: https://github.com/scikit-learn/scikit-learn/issues/21755 */display: inline-block !important;position: relative;}#sk-container-id-7 div.sk-text-repr-fallback {display: none;}</style><div id=\"sk-container-id-7\" class=\"sk-top-container\"><div class=\"sk-text-repr-fallback\"><pre>KNeighborsClassifier(n_neighbors=4)</pre><b>In a Jupyter environment, please rerun this cell to show the HTML representation or trust the notebook. <br />On GitHub, the HTML representation is unable to render, please try loading this page with nbviewer.org.</b></div><div class=\"sk-container\" hidden><div class=\"sk-item\"><div class=\"sk-estimator sk-toggleable\"><input class=\"sk-toggleable__control sk-hidden--visually\" id=\"sk-estimator-id-7\" type=\"checkbox\" checked><label for=\"sk-estimator-id-7\" class=\"sk-toggleable__label sk-toggleable__label-arrow\">KNeighborsClassifier</label><div class=\"sk-toggleable__content\"><pre>KNeighborsClassifier(n_neighbors=4)</pre></div></div></div></div></div>"
     },
     "execution_count": 28,
     "metadata": {},
     "output_type": "execute_result"
    }
   ],
   "source": [
    "knn_classifier = KNeighborsClassifier(n_neighbors=4)\n",
    "knn_classifier.fit(X_train,y_train)"
   ],
   "metadata": {
    "collapsed": false,
    "ExecuteTime": {
     "end_time": "2024-02-23T07:17:49.671868900Z",
     "start_time": "2024-02-23T07:17:49.662641100Z"
    }
   }
  },
  {
   "cell_type": "code",
   "execution_count": 24,
   "outputs": [
    {
     "data": {
      "text/plain": "array([[137,   9],\n       [  8, 146]], dtype=int64)"
     },
     "execution_count": 24,
     "metadata": {},
     "output_type": "execute_result"
    }
   ],
   "source": [
    "from sklearn.metrics import confusion_matrix,classification_report\n",
    "confusion_matrix(y_test,knn_classifier.predict(X_test))"
   ],
   "metadata": {
    "collapsed": false,
    "ExecuteTime": {
     "end_time": "2024-02-23T07:17:21.153458Z",
     "start_time": "2024-02-23T07:17:21.136025600Z"
    }
   }
  },
  {
   "cell_type": "code",
   "execution_count": 25,
   "outputs": [
    {
     "data": {
      "text/plain": "'              precision    recall  f1-score   support\\n\\n           0       0.94      0.94      0.94       146\\n           1       0.94      0.95      0.94       154\\n\\n    accuracy                           0.94       300\\n   macro avg       0.94      0.94      0.94       300\\nweighted avg       0.94      0.94      0.94       300\\n'"
     },
     "execution_count": 25,
     "metadata": {},
     "output_type": "execute_result"
    }
   ],
   "source": [
    "classification_report(y_test,knn_classifier.predict(X_test))"
   ],
   "metadata": {
    "collapsed": false,
    "ExecuteTime": {
     "end_time": "2024-02-23T07:17:22.854855700Z",
     "start_time": "2024-02-23T07:17:22.826099100Z"
    }
   }
  },
  {
   "cell_type": "code",
   "execution_count": 29,
   "outputs": [
    {
     "data": {
      "text/plain": "0.9433333333333334"
     },
     "execution_count": 29,
     "metadata": {},
     "output_type": "execute_result"
    }
   ],
   "source": [
    "knn_classifier.score(X_test,y_test)"
   ],
   "metadata": {
    "collapsed": false,
    "ExecuteTime": {
     "end_time": "2024-02-23T07:17:52.927703900Z",
     "start_time": "2024-02-23T07:17:52.911980400Z"
    }
   }
  }
 ],
 "metadata": {
  "kernelspec": {
   "display_name": "Python 3",
   "language": "python",
   "name": "python3"
  },
  "language_info": {
   "codemirror_mode": {
    "name": "ipython",
    "version": 2
   },
   "file_extension": ".py",
   "mimetype": "text/x-python",
   "name": "python",
   "nbconvert_exporter": "python",
   "pygments_lexer": "ipython2",
   "version": "2.7.6"
  }
 },
 "nbformat": 4,
 "nbformat_minor": 0
}
