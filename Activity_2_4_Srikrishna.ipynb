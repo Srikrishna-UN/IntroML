{
 "cells": [
  {
   "cell_type": "markdown",
   "id": "f8ad048b",
   "metadata": {
    "id": "f8ad048b"
   },
   "source": [
    "## Activity 2.4 - Normalization and Label Encoding\n",
    "Prepared by: Ashwini Kumar Mathur"
   ]
  },
  {
   "cell_type": "code",
   "execution_count": 4,
   "id": "a0ff86ae",
   "metadata": {
    "id": "a0ff86ae",
    "ExecuteTime": {
     "end_time": "2024-02-02T06:12:28.943068200Z",
     "start_time": "2024-02-02T06:12:28.936798800Z"
    }
   },
   "outputs": [],
   "source": [
    "import pandas as pd\n",
    "from sklearn import datasets\n",
    "from sklearn.preprocessing import StandardScaler, MinMaxScaler, LabelEncoder, OneHotEncoder\n",
    "import matplotlib.pyplot as plt"
   ]
  },
  {
   "cell_type": "code",
   "execution_count": 22,
   "id": "bf69a8ce",
   "metadata": {
    "id": "bf69a8ce",
    "ExecuteTime": {
     "end_time": "2024-02-02T06:37:02.965689900Z",
     "start_time": "2024-02-02T06:37:02.945036400Z"
    }
   },
   "outputs": [
    {
     "data": {
      "text/plain": "      Id  SepalLengthCm  SepalWidthCm  PetalLengthCm  PetalWidthCm  \\\n0      1            5.1           3.5            1.4           0.2   \n1      2            4.9           3.0            1.4           0.2   \n2      3            4.7           3.2            1.3           0.2   \n3      4            4.6           3.1            1.5           0.2   \n4      5            5.0           3.6            1.4           0.2   \n..   ...            ...           ...            ...           ...   \n145  146            6.7           3.0            5.2           2.3   \n146  147            6.3           2.5            5.0           1.9   \n147  148            6.5           3.0            5.2           2.0   \n148  149           10.2           3.4           11.4           2.3   \n149  152            5.9           3.0           59.1           9.8   \n\n            Species  \n0       Iris-setosa  \n1       Iris-setosa  \n2       Iris-setosa  \n3       Iris-setosa  \n4       Iris-setosa  \n..              ...  \n145  Iris-virginica  \n146  Iris-virginica  \n147  Iris-virginica  \n148  Iris-virginica  \n149  Iris-virginica  \n\n[150 rows x 6 columns]",
      "text/html": "<div>\n<style scoped>\n    .dataframe tbody tr th:only-of-type {\n        vertical-align: middle;\n    }\n\n    .dataframe tbody tr th {\n        vertical-align: top;\n    }\n\n    .dataframe thead th {\n        text-align: right;\n    }\n</style>\n<table border=\"1\" class=\"dataframe\">\n  <thead>\n    <tr style=\"text-align: right;\">\n      <th></th>\n      <th>Id</th>\n      <th>SepalLengthCm</th>\n      <th>SepalWidthCm</th>\n      <th>PetalLengthCm</th>\n      <th>PetalWidthCm</th>\n      <th>Species</th>\n    </tr>\n  </thead>\n  <tbody>\n    <tr>\n      <th>0</th>\n      <td>1</td>\n      <td>5.1</td>\n      <td>3.5</td>\n      <td>1.4</td>\n      <td>0.2</td>\n      <td>Iris-setosa</td>\n    </tr>\n    <tr>\n      <th>1</th>\n      <td>2</td>\n      <td>4.9</td>\n      <td>3.0</td>\n      <td>1.4</td>\n      <td>0.2</td>\n      <td>Iris-setosa</td>\n    </tr>\n    <tr>\n      <th>2</th>\n      <td>3</td>\n      <td>4.7</td>\n      <td>3.2</td>\n      <td>1.3</td>\n      <td>0.2</td>\n      <td>Iris-setosa</td>\n    </tr>\n    <tr>\n      <th>3</th>\n      <td>4</td>\n      <td>4.6</td>\n      <td>3.1</td>\n      <td>1.5</td>\n      <td>0.2</td>\n      <td>Iris-setosa</td>\n    </tr>\n    <tr>\n      <th>4</th>\n      <td>5</td>\n      <td>5.0</td>\n      <td>3.6</td>\n      <td>1.4</td>\n      <td>0.2</td>\n      <td>Iris-setosa</td>\n    </tr>\n    <tr>\n      <th>...</th>\n      <td>...</td>\n      <td>...</td>\n      <td>...</td>\n      <td>...</td>\n      <td>...</td>\n      <td>...</td>\n    </tr>\n    <tr>\n      <th>145</th>\n      <td>146</td>\n      <td>6.7</td>\n      <td>3.0</td>\n      <td>5.2</td>\n      <td>2.3</td>\n      <td>Iris-virginica</td>\n    </tr>\n    <tr>\n      <th>146</th>\n      <td>147</td>\n      <td>6.3</td>\n      <td>2.5</td>\n      <td>5.0</td>\n      <td>1.9</td>\n      <td>Iris-virginica</td>\n    </tr>\n    <tr>\n      <th>147</th>\n      <td>148</td>\n      <td>6.5</td>\n      <td>3.0</td>\n      <td>5.2</td>\n      <td>2.0</td>\n      <td>Iris-virginica</td>\n    </tr>\n    <tr>\n      <th>148</th>\n      <td>149</td>\n      <td>10.2</td>\n      <td>3.4</td>\n      <td>11.4</td>\n      <td>2.3</td>\n      <td>Iris-virginica</td>\n    </tr>\n    <tr>\n      <th>149</th>\n      <td>152</td>\n      <td>5.9</td>\n      <td>3.0</td>\n      <td>59.1</td>\n      <td>9.8</td>\n      <td>Iris-virginica</td>\n    </tr>\n  </tbody>\n</table>\n<p>150 rows × 6 columns</p>\n</div>"
     },
     "execution_count": 22,
     "metadata": {},
     "output_type": "execute_result"
    }
   ],
   "source": [
    "#Manually load the the iris flower dataset\n",
    "df = pd.read_csv('datasets/Iris.csv')\n",
    "df"
   ]
  },
  {
   "cell_type": "code",
   "execution_count": 25,
   "outputs": [
    {
     "data": {
      "text/plain": "Index(['Id', 'SepalLengthCm', 'SepalWidthCm', 'PetalLengthCm', 'PetalWidthCm',\n       'Species'],\n      dtype='object')"
     },
     "execution_count": 25,
     "metadata": {},
     "output_type": "execute_result"
    }
   ],
   "source": [
    "df.columns"
   ],
   "metadata": {
    "collapsed": false,
    "ExecuteTime": {
     "end_time": "2024-02-02T06:38:01.723245100Z",
     "start_time": "2024-02-02T06:38:01.715245Z"
    }
   }
  },
  {
   "cell_type": "code",
   "execution_count": 26,
   "id": "ee322f03",
   "metadata": {
    "id": "ee322f03",
    "ExecuteTime": {
     "end_time": "2024-02-02T06:38:27.932444900Z",
     "start_time": "2024-02-02T06:38:27.922948500Z"
    }
   },
   "outputs": [
    {
     "name": "stdout",
     "output_type": "stream",
     "text": [
      "Rows with Outliers:       Id  SepalLengthCm  SepalWidthCm  PetalLengthCm  PetalWidthCm  \\\n",
      "130  131            7.4          22.8            6.1          19.9   \n",
      "141  142           15.9           3.1            5.1           2.3   \n",
      "142  143            5.8           2.7            5.1          19.9   \n",
      "148  149           10.2           3.4           11.4           2.3   \n",
      "149  152            5.9           3.0           59.1           9.8   \n",
      "\n",
      "            Species  \n",
      "130  Iris-virginica  \n",
      "141  Iris-virginica  \n",
      "142  Iris-virginica  \n",
      "148  Iris-virginica  \n",
      "149  Iris-virginica  \n"
     ]
    }
   ],
   "source": [
    "#Calculate the zscore using pre-build method in scipy library\n",
    "from scipy import stats\n",
    "\n",
    "# Specify columns to check for outliers\n",
    "columns_to_check = ['SepalLengthCm', 'SepalWidthCm', 'PetalLengthCm', 'PetalWidthCm']\n",
    "\n",
    "# Calculate Z-scores for each column\n",
    "#z_scores = stats.zscore(df1[columns_to_check])\n",
    "z_scores = stats.zscore(df[columns_to_check])\n",
    "\n",
    "# Define a threshold for outlier detection (e.g., 3 standard deviations)\n",
    "threshold = 3\n",
    "outlier_indices = (z_scores > threshold).any(axis=1)\n",
    "outliers_df = df[outlier_indices]\n",
    "\n",
    "print(\"Rows with Outliers:\", outliers_df)"
   ]
  },
  {
   "cell_type": "code",
   "execution_count": 27,
   "id": "1b7d1c93",
   "metadata": {
    "id": "1b7d1c93",
    "ExecuteTime": {
     "end_time": "2024-02-02T06:38:33.301159700Z",
     "start_time": "2024-02-02T06:38:33.283157400Z"
    }
   },
   "outputs": [
    {
     "data": {
      "text/plain": "5"
     },
     "execution_count": 27,
     "metadata": {},
     "output_type": "execute_result"
    }
   ],
   "source": [
    "outlier_indices.sum()"
   ]
  },
  {
   "cell_type": "code",
   "execution_count": 30,
   "id": "00705afe",
   "metadata": {
    "id": "00705afe",
    "ExecuteTime": {
     "end_time": "2024-02-02T06:39:03.061457400Z",
     "start_time": "2024-02-02T06:39:03.047915100Z"
    }
   },
   "outputs": [
    {
     "data": {
      "text/plain": "      Id  SepalLengthCm  SepalWidthCm  PetalLengthCm  PetalWidthCm  \\\n0      1            5.1           3.5            1.4           0.2   \n1      2            4.9           3.0            1.4           0.2   \n2      3            4.7           3.2            1.3           0.2   \n3      4            4.6           3.1            1.5           0.2   \n4      5            5.0           3.6            1.4           0.2   \n..   ...            ...           ...            ...           ...   \n143  144            6.8           3.2            5.9           2.3   \n144  145            6.7           3.3            5.7           2.5   \n145  146            6.7           3.0            5.2           2.3   \n146  147            6.3           2.5            5.0           1.9   \n147  148            6.5           3.0            5.2           2.0   \n\n            Species  \n0       Iris-setosa  \n1       Iris-setosa  \n2       Iris-setosa  \n3       Iris-setosa  \n4       Iris-setosa  \n..              ...  \n143  Iris-virginica  \n144  Iris-virginica  \n145  Iris-virginica  \n146  Iris-virginica  \n147  Iris-virginica  \n\n[145 rows x 6 columns]",
      "text/html": "<div>\n<style scoped>\n    .dataframe tbody tr th:only-of-type {\n        vertical-align: middle;\n    }\n\n    .dataframe tbody tr th {\n        vertical-align: top;\n    }\n\n    .dataframe thead th {\n        text-align: right;\n    }\n</style>\n<table border=\"1\" class=\"dataframe\">\n  <thead>\n    <tr style=\"text-align: right;\">\n      <th></th>\n      <th>Id</th>\n      <th>SepalLengthCm</th>\n      <th>SepalWidthCm</th>\n      <th>PetalLengthCm</th>\n      <th>PetalWidthCm</th>\n      <th>Species</th>\n    </tr>\n  </thead>\n  <tbody>\n    <tr>\n      <th>0</th>\n      <td>1</td>\n      <td>5.1</td>\n      <td>3.5</td>\n      <td>1.4</td>\n      <td>0.2</td>\n      <td>Iris-setosa</td>\n    </tr>\n    <tr>\n      <th>1</th>\n      <td>2</td>\n      <td>4.9</td>\n      <td>3.0</td>\n      <td>1.4</td>\n      <td>0.2</td>\n      <td>Iris-setosa</td>\n    </tr>\n    <tr>\n      <th>2</th>\n      <td>3</td>\n      <td>4.7</td>\n      <td>3.2</td>\n      <td>1.3</td>\n      <td>0.2</td>\n      <td>Iris-setosa</td>\n    </tr>\n    <tr>\n      <th>3</th>\n      <td>4</td>\n      <td>4.6</td>\n      <td>3.1</td>\n      <td>1.5</td>\n      <td>0.2</td>\n      <td>Iris-setosa</td>\n    </tr>\n    <tr>\n      <th>4</th>\n      <td>5</td>\n      <td>5.0</td>\n      <td>3.6</td>\n      <td>1.4</td>\n      <td>0.2</td>\n      <td>Iris-setosa</td>\n    </tr>\n    <tr>\n      <th>...</th>\n      <td>...</td>\n      <td>...</td>\n      <td>...</td>\n      <td>...</td>\n      <td>...</td>\n      <td>...</td>\n    </tr>\n    <tr>\n      <th>143</th>\n      <td>144</td>\n      <td>6.8</td>\n      <td>3.2</td>\n      <td>5.9</td>\n      <td>2.3</td>\n      <td>Iris-virginica</td>\n    </tr>\n    <tr>\n      <th>144</th>\n      <td>145</td>\n      <td>6.7</td>\n      <td>3.3</td>\n      <td>5.7</td>\n      <td>2.5</td>\n      <td>Iris-virginica</td>\n    </tr>\n    <tr>\n      <th>145</th>\n      <td>146</td>\n      <td>6.7</td>\n      <td>3.0</td>\n      <td>5.2</td>\n      <td>2.3</td>\n      <td>Iris-virginica</td>\n    </tr>\n    <tr>\n      <th>146</th>\n      <td>147</td>\n      <td>6.3</td>\n      <td>2.5</td>\n      <td>5.0</td>\n      <td>1.9</td>\n      <td>Iris-virginica</td>\n    </tr>\n    <tr>\n      <th>147</th>\n      <td>148</td>\n      <td>6.5</td>\n      <td>3.0</td>\n      <td>5.2</td>\n      <td>2.0</td>\n      <td>Iris-virginica</td>\n    </tr>\n  </tbody>\n</table>\n<p>145 rows × 6 columns</p>\n</div>"
     },
     "execution_count": 30,
     "metadata": {},
     "output_type": "execute_result"
    }
   ],
   "source": [
    "#Direct Method - Remove the outlier indices\n",
    "clean_df = df[~outlier_indices]\n",
    "clean_df"
   ]
  },
  {
   "cell_type": "markdown",
   "id": "696706d5",
   "metadata": {
    "id": "696706d5"
   },
   "source": [
    "**Perform the Normalization using pre-built python funtion using sklearn library**\n",
    "\n",
    "Techniques for Normalization:\n",
    "- Standard scalar Method\n",
    "- MinMax scalar Method*"
   ]
  },
  {
   "cell_type": "code",
   "execution_count": 32,
   "id": "c1e9c838",
   "metadata": {
    "id": "c1e9c838",
    "ExecuteTime": {
     "end_time": "2024-02-02T06:41:35.757259600Z",
     "start_time": "2024-02-02T06:41:35.744907800Z"
    }
   },
   "outputs": [
    {
     "data": {
      "text/plain": "     SepalLengthCm  SepalWidthCm  PetalLengthCm  PetalWidthCm\n0         0.222222      0.625000       0.067797      0.041667\n1         0.166667      0.416667       0.067797      0.041667\n2         0.111111      0.500000       0.050847      0.041667\n3         0.083333      0.458333       0.084746      0.041667\n4         0.194444      0.666667       0.067797      0.041667\n..             ...           ...            ...           ...\n140       0.694444      0.500000       0.830508      0.916667\n141       0.666667      0.541667       0.796610      1.000000\n142       0.666667      0.416667       0.711864      0.916667\n143       0.555556      0.208333       0.677966      0.750000\n144       0.611111      0.416667       0.711864      0.791667\n\n[145 rows x 4 columns]",
      "text/html": "<div>\n<style scoped>\n    .dataframe tbody tr th:only-of-type {\n        vertical-align: middle;\n    }\n\n    .dataframe tbody tr th {\n        vertical-align: top;\n    }\n\n    .dataframe thead th {\n        text-align: right;\n    }\n</style>\n<table border=\"1\" class=\"dataframe\">\n  <thead>\n    <tr style=\"text-align: right;\">\n      <th></th>\n      <th>SepalLengthCm</th>\n      <th>SepalWidthCm</th>\n      <th>PetalLengthCm</th>\n      <th>PetalWidthCm</th>\n    </tr>\n  </thead>\n  <tbody>\n    <tr>\n      <th>0</th>\n      <td>0.222222</td>\n      <td>0.625000</td>\n      <td>0.067797</td>\n      <td>0.041667</td>\n    </tr>\n    <tr>\n      <th>1</th>\n      <td>0.166667</td>\n      <td>0.416667</td>\n      <td>0.067797</td>\n      <td>0.041667</td>\n    </tr>\n    <tr>\n      <th>2</th>\n      <td>0.111111</td>\n      <td>0.500000</td>\n      <td>0.050847</td>\n      <td>0.041667</td>\n    </tr>\n    <tr>\n      <th>3</th>\n      <td>0.083333</td>\n      <td>0.458333</td>\n      <td>0.084746</td>\n      <td>0.041667</td>\n    </tr>\n    <tr>\n      <th>4</th>\n      <td>0.194444</td>\n      <td>0.666667</td>\n      <td>0.067797</td>\n      <td>0.041667</td>\n    </tr>\n    <tr>\n      <th>...</th>\n      <td>...</td>\n      <td>...</td>\n      <td>...</td>\n      <td>...</td>\n    </tr>\n    <tr>\n      <th>140</th>\n      <td>0.694444</td>\n      <td>0.500000</td>\n      <td>0.830508</td>\n      <td>0.916667</td>\n    </tr>\n    <tr>\n      <th>141</th>\n      <td>0.666667</td>\n      <td>0.541667</td>\n      <td>0.796610</td>\n      <td>1.000000</td>\n    </tr>\n    <tr>\n      <th>142</th>\n      <td>0.666667</td>\n      <td>0.416667</td>\n      <td>0.711864</td>\n      <td>0.916667</td>\n    </tr>\n    <tr>\n      <th>143</th>\n      <td>0.555556</td>\n      <td>0.208333</td>\n      <td>0.677966</td>\n      <td>0.750000</td>\n    </tr>\n    <tr>\n      <th>144</th>\n      <td>0.611111</td>\n      <td>0.416667</td>\n      <td>0.711864</td>\n      <td>0.791667</td>\n    </tr>\n  </tbody>\n</table>\n<p>145 rows × 4 columns</p>\n</div>"
     },
     "execution_count": 32,
     "metadata": {},
     "output_type": "execute_result"
    }
   ],
   "source": [
    "# Apply the minmax scalar in the dataframe\n",
    "scaler = MinMaxScaler()\n",
    "scaled_df = pd.DataFrame(scaler.fit_transform(clean_df[columns_to_check]),columns=columns_to_check)\n",
    "scaled_df"
   ]
  },
  {
   "cell_type": "markdown",
   "id": "0b4f462a",
   "metadata": {
    "id": "0b4f462a"
   },
   "source": [
    "**#Perfom the encoding techniques :**\n",
    "- Label encoding\n",
    "- One Hot encoding"
   ]
  },
  {
   "cell_type": "code",
   "execution_count": 45,
   "id": "87953b3a",
   "metadata": {
    "id": "87953b3a",
    "ExecuteTime": {
     "end_time": "2024-02-02T06:47:37.187092900Z",
     "start_time": "2024-02-02T06:47:37.164983500Z"
    }
   },
   "outputs": [
    {
     "data": {
      "text/plain": "0      0\n1      0\n2      0\n3      0\n4      0\n      ..\n145    2\n146    2\n147    2\n148    2\n149    2\nName: Species, Length: 150, dtype: int32"
     },
     "execution_count": 45,
     "metadata": {},
     "output_type": "execute_result"
    }
   ],
   "source": [
    "# Perform the Label encoding\n",
    "label_encoder =  LabelEncoder()\n",
    "encoded_species = pd.Series(label_encoder.fit_transform(df[\"Species\"]),name='Species')\n",
    "encoded_species"
   ]
  },
  {
   "cell_type": "code",
   "execution_count": 50,
   "id": "4fbe7b17",
   "metadata": {
    "id": "4fbe7b17",
    "ExecuteTime": {
     "end_time": "2024-02-02T06:53:32.955045300Z",
     "start_time": "2024-02-02T06:53:32.934196200Z"
    }
   },
   "outputs": [
    {
     "data": {
      "text/plain": "     SepalLengthCm  SepalWidthCm  PetalLengthCm  PetalWidthCm  Species\n0         0.222222      0.625000       0.067797      0.041667        0\n1         0.166667      0.416667       0.067797      0.041667        0\n2         0.111111      0.500000       0.050847      0.041667        0\n3         0.083333      0.458333       0.084746      0.041667        0\n4         0.194444      0.666667       0.067797      0.041667        0\n..             ...           ...            ...           ...      ...\n140       0.694444      0.500000       0.830508      0.916667        2\n141       0.666667      0.541667       0.796610      1.000000        2\n142       0.666667      0.416667       0.711864      0.916667        2\n143       0.555556      0.208333       0.677966      0.750000        2\n144       0.611111      0.416667       0.711864      0.791667        2\n\n[145 rows x 5 columns]",
      "text/html": "<div>\n<style scoped>\n    .dataframe tbody tr th:only-of-type {\n        vertical-align: middle;\n    }\n\n    .dataframe tbody tr th {\n        vertical-align: top;\n    }\n\n    .dataframe thead th {\n        text-align: right;\n    }\n</style>\n<table border=\"1\" class=\"dataframe\">\n  <thead>\n    <tr style=\"text-align: right;\">\n      <th></th>\n      <th>SepalLengthCm</th>\n      <th>SepalWidthCm</th>\n      <th>PetalLengthCm</th>\n      <th>PetalWidthCm</th>\n      <th>Species</th>\n    </tr>\n  </thead>\n  <tbody>\n    <tr>\n      <th>0</th>\n      <td>0.222222</td>\n      <td>0.625000</td>\n      <td>0.067797</td>\n      <td>0.041667</td>\n      <td>0</td>\n    </tr>\n    <tr>\n      <th>1</th>\n      <td>0.166667</td>\n      <td>0.416667</td>\n      <td>0.067797</td>\n      <td>0.041667</td>\n      <td>0</td>\n    </tr>\n    <tr>\n      <th>2</th>\n      <td>0.111111</td>\n      <td>0.500000</td>\n      <td>0.050847</td>\n      <td>0.041667</td>\n      <td>0</td>\n    </tr>\n    <tr>\n      <th>3</th>\n      <td>0.083333</td>\n      <td>0.458333</td>\n      <td>0.084746</td>\n      <td>0.041667</td>\n      <td>0</td>\n    </tr>\n    <tr>\n      <th>4</th>\n      <td>0.194444</td>\n      <td>0.666667</td>\n      <td>0.067797</td>\n      <td>0.041667</td>\n      <td>0</td>\n    </tr>\n    <tr>\n      <th>...</th>\n      <td>...</td>\n      <td>...</td>\n      <td>...</td>\n      <td>...</td>\n      <td>...</td>\n    </tr>\n    <tr>\n      <th>140</th>\n      <td>0.694444</td>\n      <td>0.500000</td>\n      <td>0.830508</td>\n      <td>0.916667</td>\n      <td>2</td>\n    </tr>\n    <tr>\n      <th>141</th>\n      <td>0.666667</td>\n      <td>0.541667</td>\n      <td>0.796610</td>\n      <td>1.000000</td>\n      <td>2</td>\n    </tr>\n    <tr>\n      <th>142</th>\n      <td>0.666667</td>\n      <td>0.416667</td>\n      <td>0.711864</td>\n      <td>0.916667</td>\n      <td>2</td>\n    </tr>\n    <tr>\n      <th>143</th>\n      <td>0.555556</td>\n      <td>0.208333</td>\n      <td>0.677966</td>\n      <td>0.750000</td>\n      <td>2</td>\n    </tr>\n    <tr>\n      <th>144</th>\n      <td>0.611111</td>\n      <td>0.416667</td>\n      <td>0.711864</td>\n      <td>0.791667</td>\n      <td>2</td>\n    </tr>\n  </tbody>\n</table>\n<p>145 rows × 5 columns</p>\n</div>"
     },
     "execution_count": 50,
     "metadata": {},
     "output_type": "execute_result"
    }
   ],
   "source": [
    "final_df=pd.concat([scaled_df,encoded_species],axis=1).dropna()\n",
    "final_df"
   ]
  },
  {
   "cell_type": "markdown",
   "id": "90015513",
   "metadata": {
    "id": "90015513"
   },
   "source": [
    "## Final Step\n",
    "\n",
    "**Training and Testing split for Machine learning Model**"
   ]
  },
  {
   "cell_type": "code",
   "execution_count": 47,
   "id": "0d05ae2f",
   "metadata": {
    "id": "0d05ae2f",
    "ExecuteTime": {
     "end_time": "2024-02-02T06:51:26.452431900Z",
     "start_time": "2024-02-02T06:51:26.152598400Z"
    }
   },
   "outputs": [],
   "source": [
    "#Imports\n",
    "from sklearn.model_selection import train_test_split"
   ]
  },
  {
   "cell_type": "code",
   "execution_count": 56,
   "id": "049d54ab",
   "metadata": {
    "id": "049d54ab",
    "ExecuteTime": {
     "end_time": "2024-02-02T06:57:39.993460500Z",
     "start_time": "2024-02-02T06:57:39.985907700Z"
    }
   },
   "outputs": [],
   "source": [
    "# Split the data into training and testing sets (default test size is 25%)\n",
    "X = final_df[['SepalLengthCm', 'SepalWidthCm', 'PetalLengthCm', 'PetalWidthCm']]\n",
    "y = final_df['Species']\n",
    "X_train, X_test, y_train, y_test = train_test_split(X, y, random_state=42)"
   ]
  },
  {
   "cell_type": "code",
   "execution_count": 57,
   "id": "535bd94b",
   "metadata": {
    "id": "535bd94b",
    "ExecuteTime": {
     "end_time": "2024-02-02T06:57:42.285149300Z",
     "start_time": "2024-02-02T06:57:42.278165300Z"
    }
   },
   "outputs": [
    {
     "name": "stdout",
     "output_type": "stream",
     "text": [
      "(108, 4) (37, 4) (108,) (37,)\n"
     ]
    }
   ],
   "source": [
    "# Check the shapes of the resulting sets\n",
    "print(X_train.shape, X_test.shape, y_train.shape, y_test.shape)"
   ]
  },
  {
   "cell_type": "markdown",
   "id": "d0354941",
   "metadata": {
    "id": "d0354941"
   },
   "source": [
    "### Bonus tips in python: Dataframe Slicing quick notes\n",
    "\n",
    "**Key Methods for Slicing:**\n",
    "\n",
    "1. .iloc[]: Accesses rows and columns by integer position (like standard Python lists).\n",
    "\n",
    "\n",
    "**Slicing Syntax:**\n",
    "\n",
    "2. df.iloc[start:stop:step, start:stop:step]- Selects rows and columns using integer positions.\n",
    "\n",
    "\n",
    "\n",
    "Examples:\n",
    "\n",
    "**Slicing Rows:**\n",
    "\n",
    "- df.iloc[0:3]- Selects the first 3 rows (0, 1, 2).\n",
    "- df.iloc[::2]- Selects every other row (start to end, step of 2).\n",
    "\n",
    "**Slicing Columns:**\n",
    "\n",
    "- df.iloc[:, 1:4]- Selects columns from index 1 to 3.\n",
    "\n",
    "\n",
    "**Slicing Both Rows and Columns:**\n",
    "\n",
    "- df.iloc[0:3, 1:4]- Selects rows 0 to 2 and columns 1 to 3.\n",
    "\n",
    "Additional Tips:\n",
    "\n",
    "- Negative indices count from the end (e.g., -1 for the last row/column)."
   ]
  }
 ],
 "metadata": {
  "kernelspec": {
   "display_name": "Python 3 (ipykernel)",
   "language": "python",
   "name": "python3"
  },
  "language_info": {
   "codemirror_mode": {
    "name": "ipython",
    "version": 3
   },
   "file_extension": ".py",
   "mimetype": "text/x-python",
   "name": "python",
   "nbconvert_exporter": "python",
   "pygments_lexer": "ipython3",
   "version": "3.11.5"
  },
  "colab": {
   "provenance": []
  }
 },
 "nbformat": 4,
 "nbformat_minor": 5
}
